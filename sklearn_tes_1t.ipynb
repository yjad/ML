{
 "cells": [
  {
   "cell_type": "markdown",
   "metadata": {},
   "source": [
    "# using Decision Tree "
   ]
  },
  {
   "cell_type": "code",
   "execution_count": 1,
   "metadata": {},
   "outputs": [],
   "source": [
    "import pandas as pd\n",
    "from sklearn.metrics import mean_absolute_error, r2_score, mean_squared_error\n",
    "from sklearn.model_selection import train_test_split\n",
    "from sklearn.ensemble import RandomForestRegressor\n",
    "from sklearn.tree import DecisionTreeRegressor\n",
    "from sklearn import linear_model\n",
    "import seaborn as sns"
   ]
  },
  {
   "cell_type": "code",
   "execution_count": 32,
   "metadata": {},
   "outputs": [],
   "source": [
    "reg_method= ['Decision Tree one level', \n",
    "            'Decision Tree multi level optimized', \n",
    "            'use forest regression', \n",
    "            '333333333333333',\n",
    "            '4444444444444']\n",
    "def print_model_performance(model, y, prediction, reg_method_id):\n",
    "    # print ('coeffecient:', model.coef_)\n",
    "    # print ('intercept: ', model.intercept_)\n",
    "    print (f'Mean squared Error (MSE): {mean_squared_error(y, prediction):.2f}')\n",
    "    print (f'Mean absolute Error (MAE): {mean_absolute_error(y, prediction):.2f}')\n",
    "    print (f'Coeffecint of determination (R2): {r2_score(y, prediction):.2f}')\n",
    "    match reg_method_id:\n",
    "        case 1:\n",
    "            p0= sns.scatterplot(x=y, y=prediction)\n",
    "            p0= p0.set_title(reg_method[reg_method_id])\n",
    "        case 1:\n",
    "            p1= sns.scatterplot(x=y, y=prediction)\n",
    "            p1= p1.set_title(reg_method[reg_method_id])\n",
    "        case 2:\n",
    "            p2= sns.scatterplot(x=y, y=prediction)\n",
    "            p2 = p2.set_title((reg_method[reg_method_id]))\n",
    "        case 3:\n",
    "            p3= sns.scatterplot(x=y, y=prediction)\n",
    "            p3= p3.set_title((reg_method[reg_method_id]))"
   ]
  },
  {
   "cell_type": "markdown",
   "metadata": {},
   "source": []
  },
  {
   "cell_type": "markdown",
   "metadata": {},
   "source": [
    "# Use Decision Tree Regression - One leaf"
   ]
  },
  {
   "cell_type": "code",
   "execution_count": 31,
   "metadata": {},
   "outputs": [],
   "source": [
    "def reg_decision_tree_1(train_X, val_X, train_y, val_y):\n",
    "    # Specify Model\n",
    "    iowa_model = DecisionTreeRegressor(random_state=1)\n",
    "    # Fit Model\n",
    "    iowa_model.fit(train_X, train_y)\n",
    "\n",
    "    # Make validation predictions and calculate mean absolute error\n",
    "    val_predictions = iowa_model.predict(val_X)\n",
    "    val_mae = mean_absolute_error(val_predictions, val_y)\n",
    "    # print(\"Validation MAE: {:,.0f}\".format(val_mae))\n",
    "    print_model_performance(iowa_model, val_y, val_predictions, 0)\n"
   ]
  },
  {
   "cell_type": "markdown",
   "metadata": {},
   "source": [
    "# Use Decision Tree with optimizating max_leaf_nodes"
   ]
  },
  {
   "cell_type": "code",
   "execution_count": 30,
   "metadata": {},
   "outputs": [],
   "source": [
    "# model = DecisionTreeRegressor(max_leaf_nodes=max_leaf_nodes, random_state=0)\n",
    "def get_mae(max_leaf_nodes, train_X, val_X, train_y, val_y):\n",
    "    model = DecisionTreeRegressor(max_leaf_nodes=max_leaf_nodes, random_state=0)\n",
    "    model.fit(train_X, train_y)\n",
    "    preds_val = model.predict(val_X)\n",
    "    mae = mean_absolute_error(val_y, preds_val)\n",
    "    return(mae)"
   ]
  },
  {
   "cell_type": "code",
   "execution_count": 29,
   "metadata": {},
   "outputs": [],
   "source": [
    "def reg_decision_tree_max_leaf(train_X, val_X, train_y, val_y):\n",
    "    candidate_max_leaf_nodes = [5, 25, 50, 100, 250, 500]\n",
    "    # Write loop to find the ideal tree size from candidate_max_leaf_nodes\n",
    "    mae=[]\n",
    "    for i, max_leaf in enumerate(candidate_max_leaf_nodes):\n",
    "        #print (i, max_leaf)\n",
    "        x = get_mae(max_leaf, train_X, val_X, train_y, val_y)\n",
    "        mae.append(x)\n",
    "        print(f\"Max leaf nodes: {max_leaf}  \\t\\t Mean Absolute Error:  {x}\")\n",
    "        \n",
    "    # Store the best value of max_leaf_nodes (it will be either 5, 25, 50, 100, 250 or 500)\n",
    "    m = mae.index(min(mae))\n",
    "    best_tree_size = candidate_max_leaf_nodes[m]\n",
    "\n",
    "    final_model = DecisionTreeRegressor(max_leaf_nodes=100, random_state=0)\n",
    "    # fit the final model \n",
    "    final_model.fit(X, y)\n",
    "    pred = final_model.predict(val_X)\n",
    "    print_model_performance(final_model, val_y, pred, 1)"
   ]
  },
  {
   "cell_type": "markdown",
   "metadata": {},
   "source": [
    "# Use Random Forest regression model"
   ]
  },
  {
   "cell_type": "code",
   "execution_count": 28,
   "metadata": {},
   "outputs": [],
   "source": [
    "\n",
    "# from sklearn.metrics import mean_absolute_error\n",
    "def use_forest_regression(train_X, val_X, train_y, val_y):\n",
    "    forest_model = RandomForestRegressor(random_state=1)\n",
    "    forest_model.fit(train_X, train_y)\n",
    "    melb_preds = forest_model.predict(val_X)\n",
    "    print_model_performance(forest_model, val_y, melb_preds, 2)"
   ]
  },
  {
   "cell_type": "markdown",
   "metadata": {},
   "source": [
    "# Use Linear model regression"
   ]
  },
  {
   "cell_type": "code",
   "execution_count": 27,
   "metadata": {},
   "outputs": [],
   "source": [
    "def use_linear_model(train_X, eval_X, train_y, eval_y):\n",
    "    model = linear_model.LinearRegression()\n",
    "    model.fit(train_X, train_y)\n",
    "    pred = model.predict(eval_X)\n",
    "    print_model_performance(model, eval_y, pred,3)\n",
    "    # print ('Mead squared Error (MSE):', mean_squared_error(val_y, pred))"
   ]
  },
  {
   "cell_type": "markdown",
   "metadata": {},
   "source": [
    "# Regression analysis using 4 methods"
   ]
  },
  {
   "cell_type": "code",
   "execution_count": 33,
   "metadata": {},
   "outputs": [
    {
     "name": "stdout",
     "output_type": "stream",
     "text": [
      "************ Decision Tree one level ***************\n",
      "Mean squared Error (MSE): 1897789278.29\n",
      "Mean absolute Error (MAE): 29611.41\n",
      "Coeffecint of determination (R2): 0.76\n",
      "\n",
      "************ Decision Tree multi level optimized ***************\n",
      "Max leaf nodes: 5  \t\t Mean Absolute Error:  39352.39133343253\n",
      "Max leaf nodes: 25  \t\t Mean Absolute Error:  30082.411478076883\n",
      "Max leaf nodes: 50  \t\t Mean Absolute Error:  28009.803148854407\n",
      "Max leaf nodes: 100  \t\t Mean Absolute Error:  28537.189743246596\n",
      "Max leaf nodes: 250  \t\t Mean Absolute Error:  28334.2121667692\n",
      "Max leaf nodes: 500  \t\t Mean Absolute Error:  29665.618492247537\n",
      "Mean squared Error (MSE): 461015878.60\n",
      "Mean absolute Error (MAE): 16095.51\n",
      "Coeffecint of determination (R2): 0.94\n",
      "\n",
      "************ User Forest model regression ***************\n",
      "Mean squared Error (MSE): 1414704443.68\n",
      "Mean absolute Error (MAE): 24296.75\n",
      "Coeffecint of determination (R2): 0.82\n",
      "\n",
      "************ Linear Model ***************\n",
      "Mean squared Error (MSE): 2248240570.80\n",
      "Mean absolute Error (MAE): 30485.86\n",
      "Coeffecint of determination (R2): 0.71\n"
     ]
    },
    {
     "data": {
      "image/png": "[encoded data removed]",
      "text/plain": [
       "<Figure size 432x288 with 1 Axes>"
      ]
     },
     "metadata": {
      "needs_background": "light"
     },
     "output_type": "display_data"
    }
   ],
   "source": [
    "iowa_file_path = r\"C:\\Yahia\\Python\\ML\\data\\train.csv\"\n",
    "home_data = pd.read_csv(iowa_file_path)\n",
    "\n",
    "y = home_data.SalePrice\n",
    "# Create X\n",
    "features = ['LotArea', 'YearBuilt', '1stFlrSF', '2ndFlrSF', 'FullBath', 'BedroomAbvGr', 'TotRmsAbvGrd']\n",
    "X = home_data[features]\n",
    "\n",
    "# Split into validation and training data\n",
    "# train_X, val_X, train_y, val_y = train_test_split(X, y, random_state=1)\n",
    "train_X, val_X, train_y, val_y = train_test_split(X, y, test_size =0.2)\n",
    "\n",
    "print ('************ Decision Tree one level ***************')\n",
    "reg_decision_tree_1(train_X, val_X, train_y, val_y)\n",
    "\n",
    "print ('\\n************ Decision Tree multi level optimized ***************')\n",
    "reg_decision_tree_max_leaf(train_X, val_X, train_y, val_y)\n",
    "\n",
    "print ('\\n************ User Forest model regression ***************')\n",
    "use_forest_regression(train_X, val_X, train_y, val_y)\n",
    "\n",
    "print ('\\n************ Linear Model ***************')\n",
    "use_linear_model(train_X, val_X, train_y, val_y)"
   ]
  },
  {
   "cell_type": "markdown",
   "metadata": {},
   "source": [
    "### Boston House data"
   ]
  },
  {
   "cell_type": "code",
   "execution_count": 34,
   "metadata": {},
   "outputs": [
    {
     "name": "stdout",
     "output_type": "stream",
     "text": [
      "************ Decision Tree one level ***************\n",
      "Mean squared Error (MSE): 12.60\n",
      "Mean absolute Error (MAE): 2.57\n",
      "Coeffecint of determination (R2): 0.86\n",
      "\n",
      "************ Decision Tree multi level optimized ***************\n",
      "Max leaf nodes: 5  \t\t Mean Absolute Error:  3.50680046345174\n",
      "Max leaf nodes: 25  \t\t Mean Absolute Error:  2.5613876975969294\n",
      "Max leaf nodes: 50  \t\t Mean Absolute Error:  2.5630138230505883\n",
      "Max leaf nodes: 100  \t\t Mean Absolute Error:  2.6379379444085336\n",
      "Max leaf nodes: 250  \t\t Mean Absolute Error:  2.6744281045751634\n",
      "Max leaf nodes: 500  \t\t Mean Absolute Error:  2.6823529411764704\n",
      "Mean squared Error (MSE): 1.19\n",
      "Mean absolute Error (MAE): 0.85\n",
      "Coeffecint of determination (R2): 0.99\n",
      "\n",
      "************ User Forest model regression ***************\n",
      "Mean squared Error (MSE): 6.34\n",
      "Mean absolute Error (MAE): 1.95\n",
      "Coeffecint of determination (R2): 0.93\n",
      "\n",
      "************ Linear Model ***************\n",
      "Mean squared Error (MSE): 23.57\n",
      "Mean absolute Error (MAE): 3.51\n",
      "Coeffecint of determination (R2): 0.75\n"
     ]
    },
    {
     "data": {
      "image/png": "[encoded data removed]",
      "text/plain": [
       "<Figure size 432x288 with 1 Axes>"
      ]
     },
     "metadata": {
      "needs_background": "light"
     },
     "output_type": "display_data"
    }
   ],
   "source": [
    "file_path = r\"C:\\Yahia\\Python\\ML\\data\\BostonHousing.csv\"\n",
    "boston_data = pd.read_csv(file_path)\n",
    "\n",
    "y= boston_data.medv\n",
    "X = boston_data.drop('medv', axis='columns')\n",
    "\n",
    "# # Split into validation and training data\n",
    "# train_X, val_X, train_y, val_y = train_test_split(X, y, random_state=1)\n",
    "train_X, val_X, train_y, val_y = train_test_split(X, y, test_size =0.2)\n",
    "\n",
    "print ('************ Decision Tree one level ***************')\n",
    "reg_decision_tree_1(train_X, val_X, train_y, val_y)\n",
    "\n",
    "print ('\\n************ Decision Tree multi level optimized ***************')\n",
    "reg_decision_tree_max_leaf(train_X, val_X, train_y, val_y)\n",
    "\n",
    "print ('\\n************ User Forest model regression ***************')\n",
    "use_forest_regression(train_X, val_X, train_y, val_y)\n",
    "\n",
    "print ('\\n************ Linear Model ***************')\n",
    "use_linear_model(train_X, val_X, train_y, val_y)\n"
   ]
  }
 ],
 "metadata": {
  "kernelspec": {
   "display_name": "Python 3.10.2 64-bit",
   "language": "python",
   "name": "python3"
  },
  "language_info": {
   "codemirror_mode": {
    "name": "ipython",
    "version": 3
   },
   "file_extension": ".py",
   "mimetype": "text/x-python",
   "name": "python",
   "nbconvert_exporter": "python",
   "pygments_lexer": "ipython3",
   "version": "3.10.2"
  },
  "orig_nbformat": 4,
  "vscode": {
   "interpreter": {
    "hash": "26de051ba29f2982a8de78e945f0abaf191376122a1563185a90213a26c5da77"
   }
  }
 },
 "nbformat": 4,
 "nbformat_minor": 2
}
