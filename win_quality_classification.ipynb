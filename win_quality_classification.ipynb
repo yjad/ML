{
 "cells": [
  {
   "attachments": {},
   "cell_type": "markdown",
   "metadata": {},
   "source": [
    "#### Using sklearn, take file and run generate classification model. 3 lib are used: Random Forest, SVC & Nueral networks"
   ]
  },
  {
   "cell_type": "code",
   "execution_count": 12,
   "metadata": {},
   "outputs": [],
   "source": [
    "import os.path\n",
    "import pandas as pd\n",
    "import seaborn as sns\n",
    "import matplotlib.pyplot as plt\n",
    "from sklearn.ensemble import RandomForestClassifier\n",
    "from sklearn.svm import SVC\n",
    "from sklearn.neural_network import MLPClassifier\n",
    "from sklearn.metrics import confusion_matrix, classification_report, accuracy_score\n",
    "from sklearn.preprocessing import StandardScaler, LabelEncoder\n",
    "from sklearn.model_selection import train_test_split \n",
    "import pickle"
   ]
  },
  {
   "cell_type": "code",
   "execution_count": 13,
   "metadata": {},
   "outputs": [],
   "source": [
    "def classification_performance(y_test, pred):\n",
    "    # model performance\n",
    "    cr = classification_report(y_test, pred)\n",
    "    print ('classification_report: \\n', cr)\n",
    "    cm = confusion_matrix(y_test, pred)\n",
    "    print ('confusion_matrix: for each classification, how may correct, how many incorrect:\\n', cm )\n",
    "\n",
    "    print ('Accuracy score:', accuracy_score(y_test, pred))"
   ]
  },
  {
   "cell_type": "code",
   "execution_count": 14,
   "metadata": {},
   "outputs": [
    {
     "data": {
      "text/plain": [
       "Index(['fixed acidity', 'volatile acidity', 'citric acid', 'residual sugar',\n",
       "       'chlorides', 'free sulfur dioxide', 'total sulfur dioxide', 'density',\n",
       "       'pH', 'sulphates', 'alcohol', 'quality', 'Id'],\n",
       "      dtype='object')"
      ]
     },
     "execution_count": 14,
     "metadata": {},
     "output_type": "execute_result"
    }
   ],
   "source": [
    "#Loading dataset\n",
    "# wine_i = pd.read_csv('./data/winequality-red.csv', sep = ';')\n",
    "wine_i = pd.read_csv(r\"C:\\Yahia\\python\\ML\\data\\WineQT.csv\")\n",
    "wine_i.columns"
   ]
  },
  {
   "attachments": {},
   "cell_type": "markdown",
   "metadata": {},
   "source": [
    "### transform quality from number to 0 or 1 (bad or good)"
   ]
  },
  {
   "cell_type": "code",
   "execution_count": 15,
   "metadata": {},
   "outputs": [],
   "source": [
    "# Pre processing\n",
    "wine = wine_i.copy()\n",
    "bins = (2, 6.5, 8)\n",
    "group_names = ['bad', 'good']\n",
    "wine.quality = pd.cut(wine.quality, bins=bins, labels = group_names)\n",
    "# wine.quality.unique()\n",
    "label_quality = LabelEncoder()\n",
    "wine.quality = label_quality.fit_transform(wine.quality)\n"
   ]
  },
  {
   "cell_type": "code",
   "execution_count": 16,
   "metadata": {},
   "outputs": [
    {
     "data": {
      "text/plain": [
       "<Axes: xlabel='quality', ylabel='count'>"
      ]
     },
     "execution_count": 16,
     "metadata": {},
     "output_type": "execute_result"
    },
    {
     "data": {
      "image/png": "[encoded data removed]",
      "text/plain": [
       "<Figure size 640x480 with 1 Axes>"
      ]
     },
     "metadata": {},
     "output_type": "display_data"
    }
   ],
   "source": [
    "### Info:\n",
    "# wine.quality.unique()\n",
    "# wine.describe()\n",
    "# wine.quality.value_counts()\n",
    "sns.countplot(x = wine.quality)\n"
   ]
  },
  {
   "cell_type": "code",
   "execution_count": 17,
   "metadata": {},
   "outputs": [],
   "source": [
    "X = wine.drop('quality', axis='columns')\n",
    "y = wine.quality\n",
    "X_train, X_test, y_train, y_test = train_test_split(X, y, test_size= 0.2, random_state=42) "
   ]
  },
  {
   "cell_type": "code",
   "execution_count": 20,
   "metadata": {},
   "outputs": [
    {
     "ename": "NameError",
     "evalue": "name 'run_all_classification' is not defined",
     "output_type": "error",
     "traceback": [
      "\u001b[1;31m---------------------------------------------------------------------------\u001b[0m",
      "\u001b[1;31mNameError\u001b[0m                                 Traceback (most recent call last)",
      "Cell \u001b[1;32mIn[20], line 6\u001b[0m\n\u001b[0;32m      3\u001b[0m X_train \u001b[39m=\u001b[39m sc\u001b[39m.\u001b[39mfit_transform(X_train)\n\u001b[0;32m      4\u001b[0m X_test \u001b[39m=\u001b[39m sc\u001b[39m.\u001b[39mtransform(X_test)\n\u001b[1;32m----> 6\u001b[0m run_all_classification(X_train, X_test, y_train, y_test)\n",
      "\u001b[1;31mNameError\u001b[0m: name 'run_all_classification' is not defined"
     ]
    }
   ],
   "source": [
    "# Apply standard scalling to get optimized results\n",
    "sc = StandardScaler()\n",
    "X_train = sc.fit_transform(X_train)\n",
    "X_test = sc.transform(X_test)\n",
    "\n",
    "run_all_classification(X_train, X_test, y_train, y_test)"
   ]
  },
  {
   "attachments": {},
   "cell_type": "markdown",
   "metadata": {},
   "source": [
    "## 1- Random Forest Classifier model"
   ]
  },
  {
   "cell_type": "code",
   "execution_count": 21,
   "metadata": {},
   "outputs": [],
   "source": [
    "def random_forest(X_train, X_test, y_train, y_test):\n",
    "    rfc = RandomForestClassifier(n_estimators=200)\n",
    "    rfc.fit(X_train, y_train)\n",
    "   \n",
    "\n",
    "    # classification_performance(y_test, pred_rfc)\n",
    "    return rfc"
   ]
  },
  {
   "attachments": {},
   "cell_type": "markdown",
   "metadata": {},
   "source": [
    "## 2- SVC Model"
   ]
  },
  {
   "cell_type": "code",
   "execution_count": 22,
   "metadata": {},
   "outputs": [],
   "source": [
    "def run_SVC(X_train, X_test, y_train, y_test):\n",
    "    rlf = SVC()\n",
    "    rlf.fit(X_train, y_train)\n",
    "    pred = rlf.predict(X_test)\n",
    "\n",
    "    # classification_performance(y_test, pred_rlf)\n",
    "    return pred"
   ]
  },
  {
   "attachments": {},
   "cell_type": "markdown",
   "metadata": {},
   "source": [
    "## 3- Nueral Networks"
   ]
  },
  {
   "cell_type": "code",
   "execution_count": 23,
   "metadata": {},
   "outputs": [],
   "source": [
    "def run_nueral_networks(X_train, X_test, y_train, y_test):\n",
    "    mlpc = MLPClassifier(hidden_layer_sizes=(11,11,11), max_iter=500)\n",
    "    mlpc.fit(X_train, y_train)\n",
    "    pred = mlpc.predict(X_test)\n",
    "\n",
    "    # classification_performance(y_test, pred)\n",
    "    return pred\n"
   ]
  },
  {
   "attachments": {},
   "cell_type": "markdown",
   "metadata": {},
   "source": [
    "## run all classification models"
   ]
  },
  {
   "cell_type": "code",
   "execution_count": 25,
   "metadata": {},
   "outputs": [],
   "source": [
    "reg_method= ['Random Forest Calssification', \n",
    "            'SVC Calssification', \n",
    "            'Nueral Network Calssification']\n",
    "\n",
    "reg_functions = [random_forest, \n",
    "                    run_SVC,\n",
    "                    run_nueral_networks] \n",
    "DATA_FOLDER = \"./data/\"\n",
    "def run_all_classification(X_train, X_test, y_train, y_test, save_model=False):\n",
    "    scores = []\n",
    "    for reg_model_id, reg_fn in enumerate(reg_functions):\n",
    "        print (20*'*', reg_method[reg_model_id],20*'*' )\n",
    "\n",
    "        cls_model = reg_fn(X_train, X_test, y_train, y_test)\n",
    "        pred = cls_model.predict(X_test)\n",
    "        classification_performance(y_test, pred)\n",
    "        if save_model:\n",
    "            with open(f'{os.path.join(DATA_FOLDER, reg_method[reg_model_id])}.pkl', 'wb') as fid:\n",
    "                pickle.dump(cls_model, fid) \n",
    "    # random_forest(X_train, X_test, y_train, y_test)\n",
    "    # run_SVC(X_train, X_test, y_train, y_test)\n",
    "    # run_nueral_networks(X_train, X_test, y_train, y_test)\n",
    "        scores.append(accuracy_score(y_test, pred))\n",
    "        break   # test one model\n",
    "    best_accuracy = max(scores)\n",
    "    best_model = reg_method[scores.index(best_accuracy)]\n",
    "    print(\"******************* Summary ****************\")\n",
    "    print (f\"Best model: {best_model} with accuracy: {best_accuracy:.2f}\" )"
   ]
  },
  {
   "cell_type": "code",
   "execution_count": 30,
   "metadata": {},
   "outputs": [
    {
     "data": {
      "text/plain": [
       "'ovr'"
      ]
     },
     "execution_count": 30,
     "metadata": {},
     "output_type": "execute_result"
    }
   ],
   "source": [
    "\n",
    "# save the classifier\n",
    "# with open('my_dumped_classifier.pkl', 'wb') as fid:\n",
    "#     pickle.dump(gnb, fid)    \n",
    "\n",
    "pkl_file= r\"C:\\Yahia\\python\\ML\\data\\SVC Calssification.pkl\"\n",
    "#load it again\n",
    "with open(pkl_file, 'rb') as fid:\n",
    "    cfcn_loaded = pickle.load(fid)\n",
    "\n",
    "cfcn_loaded"
   ]
  },
  {
   "cell_type": "code",
   "execution_count": 29,
   "metadata": {},
   "outputs": [
    {
     "data": {
      "text/plain": [
       "array([0, 0, 0, 0, 0, 0, 0, 0, 0, 0, 1, 0, 0, 0, 0, 0, 0, 0, 0, 0, 0, 0,\n",
       "       0, 1, 0, 0, 0, 0, 0, 0, 0, 0, 1, 0, 0, 0, 0, 0, 1, 0, 0, 0, 1, 0,\n",
       "       0, 0, 0, 0, 0, 0, 1, 0, 0, 0, 0, 0, 0, 0, 0, 0, 0, 0, 0, 0, 0, 0,\n",
       "       1, 0, 0, 0, 0, 0, 0, 0, 0, 0, 0, 0, 0, 0, 0, 0, 0, 0, 0, 0, 0, 0,\n",
       "       0, 0, 0, 0, 0, 0, 0, 0, 0, 0, 0, 0, 0, 0, 0, 0, 0, 0, 0, 0, 0, 1,\n",
       "       0, 0, 0, 0, 0, 0, 0, 0, 0, 0, 0, 0, 0, 0, 0, 0, 0, 0, 0, 0, 0, 0,\n",
       "       1, 0, 0, 0, 0, 0, 0, 0, 1, 0, 0, 0, 0, 0, 0, 0, 0, 0, 0, 0, 0, 0,\n",
       "       0, 0, 0, 0, 0, 0, 0, 0, 0, 0, 0, 0, 0, 0, 0, 0, 0, 0, 0, 0, 0, 0,\n",
       "       1, 0, 0, 0, 0, 0, 0, 0, 0, 0, 0, 0, 0, 0, 0, 0, 1, 0, 0, 0, 0, 0,\n",
       "       1, 0, 0, 0, 0, 0, 0, 0, 0, 0, 0, 0, 0, 0, 0, 0, 0, 0, 0, 0, 0, 0,\n",
       "       0, 0, 0, 0, 0, 0, 0, 0, 0])"
      ]
     },
     "execution_count": 29,
     "metadata": {},
     "output_type": "execute_result"
    }
   ],
   "source": [
    "cfcn_loaded.predict(X_test)"
   ]
  },
  {
   "cell_type": "code",
   "execution_count": 32,
   "metadata": {},
   "outputs": [
    {
     "data": {
      "text/plain": [
       "{'C': 1.0,\n",
       " 'break_ties': False,\n",
       " 'cache_size': 200,\n",
       " 'class_weight': None,\n",
       " 'coef0': 0.0,\n",
       " 'decision_function_shape': 'ovr',\n",
       " 'degree': 3,\n",
       " 'gamma': 'scale',\n",
       " 'kernel': 'rbf',\n",
       " 'max_iter': -1,\n",
       " 'probability': False,\n",
       " 'random_state': None,\n",
       " 'shrinking': True,\n",
       " 'tol': 0.001,\n",
       " 'verbose': False}"
      ]
     },
     "execution_count": 32,
     "metadata": {},
     "output_type": "execute_result"
    }
   ],
   "source": [
    "cfcn_loaded.get_params()\n"
   ]
  },
  {
   "cell_type": "code",
   "execution_count": null,
   "metadata": {},
   "outputs": [],
   "source": []
  }
 ],
 "metadata": {
  "kernelspec": {
   "display_name": "Python 3.10.2 64-bit",
   "language": "python",
   "name": "python3"
  },
  "language_info": {
   "codemirror_mode": {
    "name": "ipython",
    "version": 3
   },
   "file_extension": ".py",
   "mimetype": "text/x-python",
   "name": "python",
   "nbconvert_exporter": "python",
   "pygments_lexer": "ipython3",
   "version": "3.11.4"
  },
  "orig_nbformat": 4,
  "vscode": {
   "interpreter": {
    "hash": "26de051ba29f2982a8de78e945f0abaf191376122a1563185a90213a26c5da77"
   }
  }
 },
 "nbformat": 4,
 "nbformat_minor": 2
}
