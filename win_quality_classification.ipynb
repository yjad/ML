{
 "cells": [
  {
   "cell_type": "markdown",
   "metadata": {},
   "source": [
    "#### Using sklearn, take file and run generate classification model. 3 lib are used: Random Forest, SVC & Nueral networks"
   ]
  },
  {
   "cell_type": "code",
   "execution_count": 1,
   "metadata": {},
   "outputs": [],
   "source": [
    "import pandas as pd\n",
    "import seaborn as sns\n",
    "import matplotlib.pyplot as plt\n",
    "from sklearn.ensemble import RandomForestClassifier\n",
    "from sklearn.svm import SVC\n",
    "from sklearn.neural_network import MLPClassifier\n",
    "from sklearn.metrics import confusion_matrix, classification_report, accuracy_score\n",
    "from sklearn.preprocessing import StandardScaler, LabelEncoder\n",
    "from sklearn.model_selection import train_test_split "
   ]
  },
  {
   "cell_type": "code",
   "execution_count": 14,
   "metadata": {},
   "outputs": [],
   "source": [
    "def classification_performance(y_test, pred):\n",
    "    # model performance\n",
    "    cr = classification_report(y_test, pred)\n",
    "    print ('classification_report: \\n', cr)\n",
    "    cm = confusion_matrix(y_test, pred)\n",
    "    print ('confusion_matrix: for each classification, how may correct, how many incorrect:\\n', cm )\n",
    "\n",
    "    print ('Accuracy score:', accuracy_score(y_test, pred))"
   ]
  },
  {
   "cell_type": "code",
   "execution_count": 3,
   "metadata": {},
   "outputs": [],
   "source": [
    "#Loading dataset\n",
    "wine_i = pd.read_csv('./data/winequality-red.csv', sep = ';')"
   ]
  },
  {
   "cell_type": "markdown",
   "metadata": {},
   "source": [
    "### transform quality from number to 0 or 1 (bad or good)"
   ]
  },
  {
   "cell_type": "code",
   "execution_count": 4,
   "metadata": {},
   "outputs": [],
   "source": [
    "# Pre processing\n",
    "wine = wine_i.copy()\n",
    "bins = (2, 6.5, 8)\n",
    "group_names = ['bad', 'good']\n",
    "wine.quality = pd.cut(wine.quality, bins=bins, labels = group_names)\n",
    "# wine.quality.unique()\n",
    "label_quality = LabelEncoder()\n",
    "wine.quality = label_quality.fit_transform(wine.quality)\n"
   ]
  },
  {
   "cell_type": "code",
   "execution_count": 5,
   "metadata": {},
   "outputs": [
    {
     "data": {
      "text/plain": [
       "<AxesSubplot:xlabel='quality', ylabel='count'>"
      ]
     },
     "execution_count": 5,
     "metadata": {},
     "output_type": "execute_result"
    },
    {
     "data": {
      "image/png": "[encoded data removed]",
      "text/plain": [
       "<Figure size 432x288 with 1 Axes>"
      ]
     },
     "metadata": {
      "needs_background": "light"
     },
     "output_type": "display_data"
    }
   ],
   "source": [
    "### Info:\n",
    "# wine.quality.unique()\n",
    "# wine.describe()\n",
    "# wine.quality.value_counts()\n",
    "sns.countplot(x = wine.quality)\n"
   ]
  },
  {
   "cell_type": "code",
   "execution_count": 6,
   "metadata": {},
   "outputs": [],
   "source": [
    "X = wine.drop('quality', axis='columns')\n",
    "y = wine.quality\n",
    "X_train, X_test, y_train, y_test = train_test_split(X, y, test_size= 0.2, random_state=42) "
   ]
  },
  {
   "cell_type": "code",
   "execution_count": 19,
   "metadata": {},
   "outputs": [
    {
     "name": "stdout",
     "output_type": "stream",
     "text": [
      "******************** Random Forest Calssification ********************\n",
      "classification_report: \n",
      "               precision    recall  f1-score   support\n",
      "\n",
      "           0       0.92      0.96      0.94       273\n",
      "           1       0.71      0.51      0.59        47\n",
      "\n",
      "    accuracy                           0.90       320\n",
      "   macro avg       0.81      0.74      0.77       320\n",
      "weighted avg       0.89      0.90      0.89       320\n",
      "\n",
      "confusion_matrix: for each classification, how may correct, how many incorrect:\n",
      " [[263  10]\n",
      " [ 23  24]]\n",
      "Accuracy score: 0.896875\n",
      "******************** SVC Calssification ********************\n",
      "classification_report: \n",
      "               precision    recall  f1-score   support\n",
      "\n",
      "           0       0.88      0.98      0.93       273\n",
      "           1       0.71      0.26      0.37        47\n",
      "\n",
      "    accuracy                           0.88       320\n",
      "   macro avg       0.80      0.62      0.65       320\n",
      "weighted avg       0.86      0.88      0.85       320\n",
      "\n",
      "confusion_matrix: for each classification, how may correct, how many incorrect:\n",
      " [[268   5]\n",
      " [ 35  12]]\n",
      "Accuracy score: 0.875\n",
      "******************** Nueral Network Calssification ********************\n",
      "classification_report: \n",
      "               precision    recall  f1-score   support\n",
      "\n",
      "           0       0.93      0.94      0.93       273\n",
      "           1       0.61      0.57      0.59        47\n",
      "\n",
      "    accuracy                           0.88       320\n",
      "   macro avg       0.77      0.76      0.76       320\n",
      "weighted avg       0.88      0.88      0.88       320\n",
      "\n",
      "confusion_matrix: for each classification, how may correct, how many incorrect:\n",
      " [[256  17]\n",
      " [ 20  27]]\n",
      "Accuracy score: 0.884375\n"
     ]
    },
    {
     "name": "stderr",
     "output_type": "stream",
     "text": [
      "c:\\Program Files\\Python310\\lib\\site-packages\\sklearn\\neural_network\\_multilayer_perceptron.py:702: ConvergenceWarning: Stochastic Optimizer: Maximum iterations (500) reached and the optimization hasn't converged yet.\n",
      "  warnings.warn(\n"
     ]
    }
   ],
   "source": [
    "# Apply standard scalling to get optimized results\n",
    "sc = StandardScaler()\n",
    "X_train = sc.fit_transform(X_train)\n",
    "X_test = sc.transform(X_test)\n",
    "\n",
    "run_all_classification(X_train, X_test, y_train, y_test)"
   ]
  },
  {
   "cell_type": "markdown",
   "metadata": {},
   "source": [
    "## 1- Random Forest Classifier model"
   ]
  },
  {
   "cell_type": "code",
   "execution_count": 9,
   "metadata": {},
   "outputs": [],
   "source": [
    "def random_forest(X_train, X_test, y_train, y_test):\n",
    "    rfc = RandomForestClassifier(n_estimators=200)\n",
    "    rfc.fit(X_train, y_train)\n",
    "    pred = rfc.predict(X_test)\n",
    "\n",
    "    # classification_performance(y_test, pred_rfc)\n",
    "    return pred"
   ]
  },
  {
   "cell_type": "markdown",
   "metadata": {},
   "source": [
    "## 2- SVC Model"
   ]
  },
  {
   "cell_type": "code",
   "execution_count": 10,
   "metadata": {},
   "outputs": [],
   "source": [
    "def run_SVC(X_train, X_test, y_train, y_test):\n",
    "    rlf = SVC()\n",
    "    rlf.fit(X_train, y_train)\n",
    "    pred = rlf.predict(X_test)\n",
    "\n",
    "    # classification_performance(y_test, pred_rlf)\n",
    "    return pred"
   ]
  },
  {
   "cell_type": "markdown",
   "metadata": {},
   "source": [
    "## 3- Nueral Networks"
   ]
  },
  {
   "cell_type": "code",
   "execution_count": 11,
   "metadata": {},
   "outputs": [],
   "source": [
    "def run_nueral_networks(X_train, X_test, y_train, y_test):\n",
    "    mlpc = MLPClassifier(hidden_layer_sizes=(11,11,11), max_iter=500)\n",
    "    mlpc.fit(X_train, y_train)\n",
    "    pred = mlpc.predict(X_test)\n",
    "\n",
    "    # classification_performance(y_test, pred)\n",
    "    return pred\n"
   ]
  },
  {
   "cell_type": "markdown",
   "metadata": {},
   "source": [
    "## run all classification models"
   ]
  },
  {
   "cell_type": "code",
   "execution_count": 18,
   "metadata": {},
   "outputs": [],
   "source": [
    "reg_method= ['Random Forest Calssification', \n",
    "            'SVC Calssification', \n",
    "            'Nueral Network Calssification']\n",
    "\n",
    "reg_functions = [random_forest, \n",
    "                    run_SVC,\n",
    "                    run_nueral_networks] \n",
    "\n",
    "def run_all_classification(X_train, X_test, y_train, y_test):\n",
    "    \n",
    "    for reg_model_id, reg_fn in enumerate(reg_functions):\n",
    "        print (20*'*', reg_method[reg_model_id],20*'*' )\n",
    "        pred = reg_fn(X_train, X_test, y_train, y_test)\n",
    "        classification_performance(y_test, pred)\n",
    "    # random_forest(X_train, X_test, y_train, y_test)\n",
    "    # run_SVC(X_train, X_test, y_train, y_test)\n",
    "    # run_nueral_networks(X_train, X_test, y_train, y_test)"
   ]
  }
 ],
 "metadata": {
  "kernelspec": {
   "display_name": "Python 3.10.2 64-bit",
   "language": "python",
   "name": "python3"
  },
  "language_info": {
   "codemirror_mode": {
    "name": "ipython",
    "version": 3
   },
   "file_extension": ".py",
   "mimetype": "text/x-python",
   "name": "python",
   "nbconvert_exporter": "python",
   "pygments_lexer": "ipython3",
   "version": "3.10.2"
  },
  "orig_nbformat": 4,
  "vscode": {
   "interpreter": {
    "hash": "26de051ba29f2982a8de78e945f0abaf191376122a1563185a90213a26c5da77"
   }
  }
 },
 "nbformat": 4,
 "nbformat_minor": 2
}
