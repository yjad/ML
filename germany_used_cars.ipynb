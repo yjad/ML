{
 "cells": [
  {
   "cell_type": "code",
   "execution_count": 2,
   "metadata": {},
   "outputs": [],
   "source": [
    "import pandas as pd"
   ]
  },
  {
   "cell_type": "code",
   "execution_count": 20,
   "metadata": {},
   "outputs": [],
   "source": [
    "ds_path = r\"C:\\Yahia\\python\\ML\\data\\GermanyUsedCars.zip\"\n",
    "dfo = pd.read_csv(ds_path, index_col=0)"
   ]
  },
  {
   "cell_type": "code",
   "execution_count": 26,
   "metadata": {},
   "outputs": [
    {
     "data": {
      "text/plain": [
       "0         1995\n",
       "1         1995\n",
       "2         1995\n",
       "3         1995\n",
       "4         1996\n",
       "          ... \n",
       "251074    2023\n",
       "251075    2023\n",
       "251076    2023\n",
       "251077    2023\n",
       "251078    2023\n",
       "Name: year, Length: 251079, dtype: object"
      ]
     },
     "execution_count": 26,
     "metadata": {},
     "output_type": "execute_result"
    }
   ],
   "source": [
    "# dfo.year.value_counts()\n",
    "# dfo.query(int(dfo.year)) != \n",
    "dfo.year.astype(int, errors='ignore')"
   ]
  },
  {
   "cell_type": "code",
   "execution_count": 21,
   "metadata": {},
   "outputs": [
    {
     "data": {
      "text/plain": [
       "Index(['brand', 'model', 'color', 'registration_date', 'year', 'price_in_euro',\n",
       "       'power_kw', 'power_ps', 'transmission_type', 'fuel_type',\n",
       "       'fuel_consumption_l_100km', 'fuel_consumption_g_km', 'mileage_in_km',\n",
       "       'offer_description'],\n",
       "      dtype='object')"
      ]
     },
     "execution_count": 21,
     "metadata": {},
     "output_type": "execute_result"
    }
   ],
   "source": [
    "dfo.columns"
   ]
  },
  {
   "attachments": {},
   "cell_type": "markdown",
   "metadata": {},
   "source": [
    "### Data Cleansing"
   ]
  },
  {
   "cell_type": "code",
   "execution_count": 76,
   "metadata": {},
   "outputs": [],
   "source": [
    "df = dfo.assign(year_e = pd.to_numeric(dfo.year, errors='coerce'))\n",
    "# suppress records with invalid year \n",
    "df = df.loc[~((df.year_e.isna()) | (df.year_e > 2023)) ]"
   ]
  },
  {
   "cell_type": "code",
   "execution_count": 78,
   "metadata": {},
   "outputs": [
    {
     "data": {
      "text/plain": [
       "year_e\n",
       "2019.0    29225\n",
       "2018.0    24095\n",
       "2023.0    21097\n",
       "2022.0    20653\n",
       "2017.0    18940\n",
       "2020.0    18566\n",
       "2021.0    16022\n",
       "2016.0    15072\n",
       "2015.0    12712\n",
       "2014.0    10623\n",
       "2013.0     9325\n",
       "2012.0     7992\n",
       "2011.0     7384\n",
       "2009.0     6431\n",
       "2010.0     6043\n",
       "2008.0     4847\n",
       "2007.0     4018\n",
       "2006.0     3973\n",
       "2005.0     3399\n",
       "2004.0     2649\n",
       "2003.0     2101\n",
       "2002.0     1581\n",
       "2001.0     1216\n",
       "2000.0      963\n",
       "1999.0      744\n",
       "1998.0      469\n",
       "1997.0      343\n",
       "1996.0      227\n",
       "1995.0      170\n",
       "Name: count, dtype: int64"
      ]
     },
     "execution_count": 78,
     "metadata": {},
     "output_type": "execute_result"
    }
   ],
   "source": [
    "df.year_e.value_counts()"
   ]
  },
  {
   "cell_type": "code",
   "execution_count": null,
   "metadata": {},
   "outputs": [],
   "source": [
    "# dfo.head()\n",
    "# dfo.brand.value_counts()\n",
    "# dfo[['year', 'registration_date']].head()\n",
    "df = dfo.assign(year_e = pd.to_numeric(dfo.year, errors='coerce'))\n",
    "# df = dfo.assign(years_in_service = 2023-pd.to_numeric(dfo.year, errors='coerce'))\n",
    "# dfo.year.astype(int, errors='ignore') - 2023\n",
    "# df[['brand', 'year', 'mileage_in_km']].groupby(['brand', 'year']).sum()/2023-year\n",
    "# 2023 - dfo.year.astype(int, errors='ignore')\n",
    "# df.head()\n",
    "# df.years_on_service\n",
    "# df.years_in_service = 2023 - df.years_in_service\n",
    "# df = df.loc[df.years_in_service >= 0]\n",
    "df[['year', 'year_e']].value_counts()\n",
    "# df[['year']].value_counts()\n"
   ]
  },
  {
   "cell_type": "code",
   "execution_count": 54,
   "metadata": {},
   "outputs": [
    {
     "data": {
      "text/plain": [
       "0         1995.0\n",
       "1         1995.0\n",
       "2         1995.0\n",
       "3         1995.0\n",
       "4         1996.0\n",
       "           ...  \n",
       "251074    2023.0\n",
       "251075    2023.0\n",
       "251076    2023.0\n",
       "251077    2023.0\n",
       "251078    2023.0\n",
       "Name: year, Length: 251079, dtype: float64"
      ]
     },
     "execution_count": 54,
     "metadata": {},
     "output_type": "execute_result"
    }
   ],
   "source": [
    "pd.to_numeric(dfo.year, errors='coerce').value_counts()\n"
   ]
  },
  {
   "cell_type": "code",
   "execution_count": null,
   "metadata": {},
   "outputs": [],
   "source": []
  }
 ],
 "metadata": {
  "kernelspec": {
   "display_name": "Python 3",
   "language": "python",
   "name": "python3"
  },
  "language_info": {
   "codemirror_mode": {
    "name": "ipython",
    "version": 3
   },
   "file_extension": ".py",
   "mimetype": "text/x-python",
   "name": "python",
   "nbconvert_exporter": "python",
   "pygments_lexer": "ipython3",
   "version": "3.11.4"
  },
  "orig_nbformat": 4
 },
 "nbformat": 4,
 "nbformat_minor": 2
}
