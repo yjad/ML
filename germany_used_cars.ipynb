{
 "cells": [
  {
   "cell_type": "code",
   "execution_count": 1,
   "metadata": {},
   "outputs": [],
   "source": [
    "import pandas as pd\n",
    "import seaborn as sns\n",
    "import numpy as np\n",
    "import matplotlib.pyplot as plt\n",
    "# pd.options.display.max_rows=100"
   ]
  },
  {
   "cell_type": "code",
   "execution_count": 2,
   "metadata": {},
   "outputs": [
    {
     "data": {
      "text/plain": [
       "Index(['brand', 'model', 'color', 'registration_date', 'year', 'price_in_euro',\n",
       "       'power_kw', 'power_ps', 'transmission_type', 'fuel_type',\n",
       "       'fuel_consumption_l_100km', 'fuel_consumption_g_km', 'mileage_in_km',\n",
       "       'offer_description'],\n",
       "      dtype='object')"
      ]
     },
     "execution_count": 2,
     "metadata": {},
     "output_type": "execute_result"
    }
   ],
   "source": [
    "ds_path = r\".\\data\\GermanyUsedCars.zip\"\n",
    "dfo = pd.read_csv(ds_path, index_col=0)\n",
    "dfo.columns"
   ]
  },
  {
   "attachments": {},
   "cell_type": "markdown",
   "metadata": {},
   "source": [
    "### Data exploration"
   ]
  },
  {
   "cell_type": "code",
   "execution_count": 7,
   "metadata": {},
   "outputs": [
    {
     "data": {
      "text/plain": [
       "mileage_in_km\n",
       "10.0        6982\n",
       "50.0        1533\n",
       "15.0        1216\n",
       "20.0        1208\n",
       "5.0         1107\n",
       "            ... \n",
       "91946.0        1\n",
       "169954.0       1\n",
       "146969.0       1\n",
       "189217.0       1\n",
       "1229.0         1\n",
       "Name: count, Length: 71766, dtype: int64"
      ]
     },
     "execution_count": 7,
     "metadata": {},
     "output_type": "execute_result"
    }
   ],
   "source": [
    "# dfo.isnull().count()\n",
    "# dfo.fuel_type.value_counts()\n",
    "# dfo.color.value_counts()\n",
    "# dfo.color.isna().sum()\n",
    "# df[['brand', 'model', 'year_e', 'transmission_type', 'price_in_euro']].corr(numeric_only=False)\n",
    "# df[['brand', 'model']].corr(numeric_only=True)\n",
    "# df.loc[df.price_in_euro == 'alfa-romeo']\n",
    "# df.dtypes\n",
    "\n",
    "dfo.mileage_in_km.value_counts()\n",
    "# dfo.mileage_in_km.isna().sum()"
   ]
  },
  {
   "attachments": {},
   "cell_type": "markdown",
   "metadata": {},
   "source": [
    "### Data Cleansing"
   ]
  },
  {
   "cell_type": "code",
   "execution_count": 4,
   "metadata": {},
   "outputs": [],
   "source": [
    "df = (dfo.assign(year_e = pd.to_numeric(dfo.year, errors='coerce'))\n",
    "      \n",
    ")\n",
    "# suppress records with invalid year \n",
    "df = df.loc[~((df.year_e.isna()) | (df.year_e > 2023)) ]\n",
    "df = df.assign(years_in_service = 2023-df.year_e).\\\n",
    "        assign(price_in_euro = pd.to_numeric(dfo.price_in_euro, errors='coerce'))"
   ]
  },
  {
   "cell_type": "code",
   "execution_count": 6,
   "metadata": {},
   "outputs": [
    {
     "data": {
      "text/plain": [
       "brand                        object\n",
       "model                        object\n",
       "color                        object\n",
       "registration_date            object\n",
       "year                         object\n",
       "price_in_euro               float64\n",
       "power_kw                     object\n",
       "power_ps                     object\n",
       "transmission_type            object\n",
       "fuel_type                    object\n",
       "fuel_consumption_l_100km     object\n",
       "fuel_consumption_g_km        object\n",
       "mileage_in_km               float64\n",
       "offer_description            object\n",
       "year_e                      float64\n",
       "years_in_service            float64\n",
       "dtype: object"
      ]
     },
     "execution_count": 6,
     "metadata": {},
     "output_type": "execute_result"
    }
   ],
   "source": [
    "df.dtypes"
   ]
  },
  {
   "cell_type": "code",
   "execution_count": 8,
   "metadata": {},
   "outputs": [],
   "source": [
    "# dfo [~dfo[['price_in_euro', 'year']].applymap(np.isreal).all(1)]\n",
    "def check_non_numeric(s:pd.Series):\n",
    "    \n",
    "    idx = pd.to_numeric(s, errors='coerce').isna()\n",
    "    return idx  # return index of non numeric\n"
   ]
  },
  {
   "cell_type": "code",
   "execution_count": 10,
   "metadata": {},
   "outputs": [],
   "source": [
    "# x = check_non_numeric(dfo.price_in_euro)\n",
    "# dfo.price_in_euro[check_non_numeric(dfo.price_in_euro)]\n",
    "\n",
    "# y = check_non_numeric(dfo.year)\n",
    "# dfo.year[y]\n",
    "\n",
    "x = dfo.mileage_in_km[check_non_numeric(dfo.mileage_in_km)]\n"
   ]
  },
  {
   "cell_type": "code",
   "execution_count": 12,
   "metadata": {},
   "outputs": [
    {
     "data": {
      "text/plain": [
       "Series([], Name: count, dtype: int64)"
      ]
     },
     "execution_count": 12,
     "metadata": {},
     "output_type": "execute_result"
    }
   ],
   "source": [
    "x.value_counts()"
   ]
  },
  {
   "attachments": {},
   "cell_type": "markdown",
   "metadata": {},
   "source": [
    "### Working "
   ]
  },
  {
   "cell_type": "code",
   "execution_count": 41,
   "metadata": {},
   "outputs": [
    {
     "data": {
      "text/html": [
       "<div>\n",
       "<style scoped>\n",
       "    .dataframe tbody tr th:only-of-type {\n",
       "        vertical-align: middle;\n",
       "    }\n",
       "\n",
       "    .dataframe tbody tr th {\n",
       "        vertical-align: top;\n",
       "    }\n",
       "\n",
       "    .dataframe thead th {\n",
       "        text-align: right;\n",
       "    }\n",
       "</style>\n",
       "<table border=\"1\" class=\"dataframe\">\n",
       "  <thead>\n",
       "    <tr style=\"text-align: right;\">\n",
       "      <th></th>\n",
       "      <th></th>\n",
       "      <th>price_in_euro</th>\n",
       "    </tr>\n",
       "    <tr>\n",
       "      <th>brand</th>\n",
       "      <th>year_e</th>\n",
       "      <th></th>\n",
       "    </tr>\n",
       "  </thead>\n",
       "  <tbody>\n",
       "    <tr>\n",
       "      <th rowspan=\"5\" valign=\"top\">alfa-romeo</th>\n",
       "      <th>1995.0</th>\n",
       "      <td>9250.000000</td>\n",
       "    </tr>\n",
       "    <tr>\n",
       "      <th>1996.0</th>\n",
       "      <td>7456.000000</td>\n",
       "    </tr>\n",
       "    <tr>\n",
       "      <th>1997.0</th>\n",
       "      <td>13426.235294</td>\n",
       "    </tr>\n",
       "    <tr>\n",
       "      <th>1998.0</th>\n",
       "      <td>5019.714286</td>\n",
       "    </tr>\n",
       "    <tr>\n",
       "      <th>1999.0</th>\n",
       "      <td>5475.937500</td>\n",
       "    </tr>\n",
       "    <tr>\n",
       "      <th>...</th>\n",
       "      <th>...</th>\n",
       "      <td>...</td>\n",
       "    </tr>\n",
       "    <tr>\n",
       "      <th rowspan=\"5\" valign=\"top\">volvo</th>\n",
       "      <th>2019.0</th>\n",
       "      <td>34790.951932</td>\n",
       "    </tr>\n",
       "    <tr>\n",
       "      <th>2020.0</th>\n",
       "      <td>41352.417832</td>\n",
       "    </tr>\n",
       "    <tr>\n",
       "      <th>2021.0</th>\n",
       "      <td>47843.649616</td>\n",
       "    </tr>\n",
       "    <tr>\n",
       "      <th>2022.0</th>\n",
       "      <td>53252.604278</td>\n",
       "    </tr>\n",
       "    <tr>\n",
       "      <th>2023.0</th>\n",
       "      <td>60842.702290</td>\n",
       "    </tr>\n",
       "  </tbody>\n",
       "</table>\n",
       "<p>968 rows × 1 columns</p>\n",
       "</div>"
      ],
      "text/plain": [
       "                   price_in_euro\n",
       "brand      year_e               \n",
       "alfa-romeo 1995.0    9250.000000\n",
       "           1996.0    7456.000000\n",
       "           1997.0   13426.235294\n",
       "           1998.0    5019.714286\n",
       "           1999.0    5475.937500\n",
       "...                          ...\n",
       "volvo      2019.0   34790.951932\n",
       "           2020.0   41352.417832\n",
       "           2021.0   47843.649616\n",
       "           2022.0   53252.604278\n",
       "           2023.0   60842.702290\n",
       "\n",
       "[968 rows x 1 columns]"
      ]
     },
     "execution_count": 41,
     "metadata": {},
     "output_type": "execute_result"
    }
   ],
   "source": [
    "# dfo.head()\n",
    "# dfo.brand.value_counts()\n",
    "# dfo[['year', 'registration_date']].head()\n",
    "# df = dfo.assign(year_e = pd.to_numeric(dfo.year, errors='coerce'))\n",
    "# df = dfo.assign(years_in_service = 2023-pd.to_numeric(dfo.year, errors='coerce'))\n",
    "# dfo.year.astype(int, errors='ignore') - 2023\n",
    "df[['brand', 'year_e', 'price_in_euro']].groupby(['brand', 'year_e']).mean()\n",
    "# 2023 - dfo.year.astype(int, errors='ignore')\n",
    "# df.head()\n",
    "# df.years_on_service\n",
    "# df.years_in_service = 2023 - df.years_in_service\n",
    "# df = df.loc[df.years_in_service >= 0]\n",
    "# df[['year', 'year_e']].value_counts()\n",
    "# df[['year']].value_counts()\n"
   ]
  },
  {
   "cell_type": "code",
   "execution_count": 35,
   "metadata": {},
   "outputs": [],
   "source": [
    "# pd.to_numeric(dfo.year, errors='coerce').value_counts()\n",
    "pd.to_numeric(df.price_in_euro, errors='raise').value_counts().sort_index()\n"
   ]
  },
  {
   "cell_type": "code",
   "execution_count": null,
   "metadata": {},
   "outputs": [],
   "source": []
  }
 ],
 "metadata": {
  "kernelspec": {
   "display_name": "Python 3",
   "language": "python",
   "name": "python3"
  },
  "language_info": {
   "codemirror_mode": {
    "name": "ipython",
    "version": 3
   },
   "file_extension": ".py",
   "mimetype": "text/x-python",
   "name": "python",
   "nbconvert_exporter": "python",
   "pygments_lexer": "ipython3",
   "version": "3.11.4"
  },
  "orig_nbformat": 4
 },
 "nbformat": 4,
 "nbformat_minor": 2
}
