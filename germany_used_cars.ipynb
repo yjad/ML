{
 "cells": [
  {
   "cell_type": "code",
   "execution_count": 15,
   "metadata": {},
   "outputs": [],
   "source": [
    "import pandas as pd\n",
    "import seaborn as sns\n",
    "import numpy as np\n",
    "import matplotlib.pyplot as plt\n",
    "plt.style.use('ggplot')\n",
    "# pd.set_option('display.max_columns', 10)\n",
    "# pd.set_option('display.max_rows', 100)\n"
   ]
  },
  {
   "cell_type": "code",
   "execution_count": 27,
   "metadata": {},
   "outputs": [
    {
     "data": {
      "text/plain": [
       "Index(['brand', 'model', 'color', 'registration_date', 'year', 'price_in_euro',\n",
       "       'power_kw', 'power_ps', 'transmission_type', 'fuel_type',\n",
       "       'fuel_consumption_l_100km', 'fuel_consumption_g_km', 'mileage_in_km',\n",
       "       'offer_description'],\n",
       "      dtype='object')"
      ]
     },
     "execution_count": 27,
     "metadata": {},
     "output_type": "execute_result"
    }
   ],
   "source": [
    "ds_path = r\".\\data\\GermanyUsedCars.zip\"\n",
    "dfo = pd.read_csv(ds_path, index_col=0, dtype_backend='pyarrow')\n",
    "dfo.columns"
   ]
  },
  {
   "attachments": {},
   "cell_type": "markdown",
   "metadata": {},
   "source": [
    "### Data exploration"
   ]
  },
  {
   "cell_type": "code",
   "execution_count": 28,
   "metadata": {},
   "outputs": [
    {
     "data": {
      "text/plain": [
       "brand                       string[pyarrow]\n",
       "model                       string[pyarrow]\n",
       "color                       string[pyarrow]\n",
       "registration_date           string[pyarrow]\n",
       "year                        string[pyarrow]\n",
       "price_in_euro               string[pyarrow]\n",
       "power_kw                    string[pyarrow]\n",
       "power_ps                    string[pyarrow]\n",
       "transmission_type           string[pyarrow]\n",
       "fuel_type                   string[pyarrow]\n",
       "fuel_consumption_l_100km    string[pyarrow]\n",
       "fuel_consumption_g_km       string[pyarrow]\n",
       "mileage_in_km               double[pyarrow]\n",
       "offer_description           string[pyarrow]\n",
       "dtype: object"
      ]
     },
     "execution_count": 28,
     "metadata": {},
     "output_type": "execute_result"
    }
   ],
   "source": [
    "# dfo.shape\n",
    "# dfo.isnull().count()\n",
    "# dfo.isna().sum()\n",
    "# dfo.isnull().sum()\n",
    "# dfo.fuel_type.value_counts()\n",
    "# dfo.color.value_counts()\n",
    "# dfo.color.isna().sum()\n",
    "# df.dtypes\n",
    "# dfo.mileage_in_km.value_counts()\n",
    "# dfo.mileage_in_km.isna().sum()\n",
    "# dfo.dtypes\n",
    "\n",
    "\n"
   ]
  },
  {
   "attachments": {},
   "cell_type": "markdown",
   "metadata": {},
   "source": [
    "### Data Cleansing"
   ]
  },
  {
   "cell_type": "code",
   "execution_count": 86,
   "metadata": {},
   "outputs": [
    {
     "data": {
      "text/plain": [
       "('number_of_droped_col:', 4)"
      ]
     },
     "execution_count": 86,
     "metadata": {},
     "output_type": "execute_result"
    }
   ],
   "source": [
    "# drop non-numeric year values\n",
    "df = dfo.copy()\n",
    "df.year = pd.to_numeric(df.year, errors='coerce').dropna(axis=0)\n",
    "df = df.loc[~((df.year.isna()) | (df.year > 2023))]\n",
    "        # assign(years_in_service = lambda x: 2023-x.year)\n",
    "# # drop non-numeric price_in_euro values\n",
    "# df = df.assign(price_in_euro = pd.to_numeric(df.price_in_euro, errors='coerce'))\n",
    "# df.year = df.year.fillna(0)\n",
    "        \n",
    "\"number_of_droped_col:\", dfo.shape[0]- df.shape[0]"
   ]
  },
  {
   "cell_type": "code",
   "execution_count": 87,
   "metadata": {},
   "outputs": [
    {
     "data": {
      "text/plain": [
       "year\n",
       "2019.0    29225\n",
       "2018.0    24095\n",
       "2023.0    21097\n",
       "2022.0    20653\n",
       "2017.0    18940\n",
       "2020.0    18566\n",
       "2021.0    16022\n",
       "2016.0    15072\n",
       "2015.0    12712\n",
       "2014.0    10623\n",
       "2013.0     9325\n",
       "2012.0     7992\n",
       "2011.0     7384\n",
       "2009.0     6431\n",
       "2010.0     6043\n",
       "2008.0     4847\n",
       "2007.0     4018\n",
       "2006.0     3973\n",
       "2005.0     3399\n",
       "2004.0     2649\n",
       "2003.0     2101\n",
       "2002.0     1581\n",
       "2001.0     1216\n",
       "2000.0      963\n",
       "1999.0      744\n",
       "1998.0      469\n",
       "1997.0      343\n",
       "1996.0      227\n",
       "NaN         195\n",
       "1995.0      170\n",
       "Name: count, dtype: int64[pyarrow]"
      ]
     },
     "execution_count": 87,
     "metadata": {},
     "output_type": "execute_result"
    }
   ],
   "source": [
    "# df.year.value_counts() - \n",
    "df.year.value_counts()"
   ]
  },
  {
   "cell_type": "code",
   "execution_count": null,
   "metadata": {},
   "outputs": [],
   "source": [
    "def check_non_numeric(s:pd.Series):\n",
    "    \n",
    "    idx = pd.to_numeric(s, errors='coerce').isna()\n",
    "    return idx  # return index of non numeric\n"
   ]
  },
  {
   "cell_type": "code",
   "execution_count": 59,
   "metadata": {},
   "outputs": [
    {
     "data": {
      "image/png": "[encoded data removed]",
      "text/plain": [
       "<Figure size 640x480 with 1 Axes>"
      ]
     },
     "metadata": {},
     "output_type": "display_data"
    }
   ],
   "source": [
    "# df['year_inroduced'].value_counts().head().plot(kind='bar'| 'barh' | 'hist' , title=, xlabel=)\n",
    "df['year'].value_counts().plot(kind='barh')\n",
    "plt.show()"
   ]
  },
  {
   "attachments": {},
   "cell_type": "markdown",
   "metadata": {},
   "source": [
    "### Working "
   ]
  },
  {
   "cell_type": "code",
   "execution_count": 56,
   "metadata": {},
   "outputs": [
    {
     "data": {
      "text/html": [
       "<div>\n",
       "<style scoped>\n",
       "    .dataframe tbody tr th:only-of-type {\n",
       "        vertical-align: middle;\n",
       "    }\n",
       "\n",
       "    .dataframe tbody tr th {\n",
       "        vertical-align: top;\n",
       "    }\n",
       "\n",
       "    .dataframe thead th {\n",
       "        text-align: right;\n",
       "    }\n",
       "</style>\n",
       "<table border=\"1\" class=\"dataframe\">\n",
       "  <thead>\n",
       "    <tr style=\"text-align: right;\">\n",
       "      <th></th>\n",
       "      <th></th>\n",
       "      <th>price_in_euro</th>\n",
       "    </tr>\n",
       "    <tr>\n",
       "      <th>brand</th>\n",
       "      <th>year</th>\n",
       "      <th></th>\n",
       "    </tr>\n",
       "  </thead>\n",
       "  <tbody>\n",
       "    <tr>\n",
       "      <th rowspan=\"5\" valign=\"top\">alfa-romeo</th>\n",
       "      <th>1995.0</th>\n",
       "      <td>9250.0</td>\n",
       "    </tr>\n",
       "    <tr>\n",
       "      <th>1996.0</th>\n",
       "      <td>7456.0</td>\n",
       "    </tr>\n",
       "    <tr>\n",
       "      <th>1997.0</th>\n",
       "      <td>13426.235294</td>\n",
       "    </tr>\n",
       "    <tr>\n",
       "      <th>1998.0</th>\n",
       "      <td>5019.714286</td>\n",
       "    </tr>\n",
       "    <tr>\n",
       "      <th>1999.0</th>\n",
       "      <td>5475.9375</td>\n",
       "    </tr>\n",
       "    <tr>\n",
       "      <th>...</th>\n",
       "      <th>...</th>\n",
       "      <td>...</td>\n",
       "    </tr>\n",
       "    <tr>\n",
       "      <th rowspan=\"5\" valign=\"top\">volvo</th>\n",
       "      <th>2020.0</th>\n",
       "      <td>41352.417832</td>\n",
       "    </tr>\n",
       "    <tr>\n",
       "      <th>2021.0</th>\n",
       "      <td>47843.649616</td>\n",
       "    </tr>\n",
       "    <tr>\n",
       "      <th>2022.0</th>\n",
       "      <td>53252.604278</td>\n",
       "    </tr>\n",
       "    <tr>\n",
       "      <th>2023.0</th>\n",
       "      <td>60842.70229</td>\n",
       "    </tr>\n",
       "    <tr>\n",
       "      <th>NaN</th>\n",
       "      <td>&lt;NA&gt;</td>\n",
       "    </tr>\n",
       "  </tbody>\n",
       "</table>\n",
       "<p>989 rows × 1 columns</p>\n",
       "</div>"
      ],
      "text/plain": [
       "                   price_in_euro\n",
       "brand      year                 \n",
       "alfa-romeo 1995.0         9250.0\n",
       "           1996.0         7456.0\n",
       "           1997.0   13426.235294\n",
       "           1998.0    5019.714286\n",
       "           1999.0      5475.9375\n",
       "...                          ...\n",
       "volvo      2020.0   41352.417832\n",
       "           2021.0   47843.649616\n",
       "           2022.0   53252.604278\n",
       "           2023.0    60842.70229\n",
       "           NaN              <NA>\n",
       "\n",
       "[989 rows x 1 columns]"
      ]
     },
     "execution_count": 56,
     "metadata": {},
     "output_type": "execute_result"
    }
   ],
   "source": [
    "# dfo.head()\n",
    "# dfo.brand.value_counts()\n",
    "# dfo[['year', 'registration_date']].head()\n",
    "# df = dfo.assign(year_e = pd.to_numeric(dfo.year, errors='coerce'))\n",
    "# df = dfo.assign(years_in_service = 2023-pd.to_numeric(dfo.year, errors='coerce'))\n",
    "# dfo.year.astype(int, errors='ignore') - 2023\n",
    "df[['brand', 'year', 'price_in_euro']].groupby(['brand', 'year']).mean()\n",
    "# 2023 - dfo.year.astype(int, errors='ignore')\n",
    "# df.head()\n",
    "# df.years_on_service\n",
    "# df.years_in_service = 2023 - df.years_in_service\n",
    "# df = df.loc[df.years_in_service >= 0]\n",
    "# df[['year', 'year_e']].value_counts()\n",
    "# df[['year']].value_counts()\n"
   ]
  },
  {
   "cell_type": "code",
   "execution_count": null,
   "metadata": {},
   "outputs": [],
   "source": [
    "# pd.to_numeric(dfo.year, errors='coerce').value_counts()\n",
    "pd.to_numeric(df.price_in_euro, errors='raise').value_counts().sort_index()\n"
   ]
  },
  {
   "cell_type": "code",
   "execution_count": null,
   "metadata": {},
   "outputs": [],
   "source": []
  }
 ],
 "metadata": {
  "kernelspec": {
   "display_name": "Python 3",
   "language": "python",
   "name": "python3"
  },
  "language_info": {
   "codemirror_mode": {
    "name": "ipython",
    "version": 3
   },
   "file_extension": ".py",
   "mimetype": "text/x-python",
   "name": "python",
   "nbconvert_exporter": "python",
   "pygments_lexer": "ipython3",
   "version": "3.11.4"
  },
  "orig_nbformat": 4
 },
 "nbformat": 4,
 "nbformat_minor": 2
}
