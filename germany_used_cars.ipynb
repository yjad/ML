{
 "cells": [
  {
   "cell_type": "code",
   "execution_count": null,
   "metadata": {},
   "outputs": [],
   "source": [
    "import pandas as pd\n",
    "import seaborn as sns\n",
    "import numpy as np\n",
    "import matplotlib.pyplot as plt\n",
    "# pd.options.display.max_rows=100"
   ]
  },
  {
   "cell_type": "code",
   "execution_count": null,
   "metadata": {},
   "outputs": [],
   "source": [
    "ds_path = r\".\\data\\GermanyUsedCars.zip\"\n",
    "dfo = pd.read_csv(ds_path, index_col=0)\n",
    "dfo.columns"
   ]
  },
  {
   "attachments": {},
   "cell_type": "markdown",
   "metadata": {},
   "source": [
    "### Data exploration"
   ]
  },
  {
   "cell_type": "code",
   "execution_count": null,
   "metadata": {},
   "outputs": [],
   "source": [
    "# dfo.isnull().count()\n",
    "# dfo.fuel_type.value_counts()\n",
    "# dfo.color.value_counts()\n",
    "# dfo.color.isna().sum()\n",
    "# df[['brand', 'model', 'year_e', 'transmission_type', 'price_in_euro']].corr(numeric_only=False)\n",
    "# df[['brand', 'model']].corr(numeric_only=True)\n",
    "# df.loc[df.price_in_euro == 'alfa-romeo']\n",
    "# df.dtypes\n",
    "\n",
    "dfo.mileage_in_km.value_counts()\n",
    "# dfo.mileage_in_km.isna().sum()"
   ]
  },
  {
   "attachments": {},
   "cell_type": "markdown",
   "metadata": {},
   "source": [
    "### Data Cleansing"
   ]
  },
  {
   "cell_type": "code",
   "execution_count": null,
   "metadata": {},
   "outputs": [],
   "source": [
    "df = (dfo.assign(year_e = pd.to_numeric(dfo.year, errors='coerce'))\n",
    "      \n",
    ")\n",
    "# suppress records with invalid year \n",
    "df = df.loc[~((df.year_e.isna()) | (df.year_e > 2023)) ]\n",
    "df = df.assign(years_in_service = 2023-df.year_e).\\\n",
    "        assign(price_in_euro = pd.to_numeric(dfo.price_in_euro, errors='coerce'))"
   ]
  },
  {
   "cell_type": "code",
   "execution_count": null,
   "metadata": {},
   "outputs": [],
   "source": [
    "df.dtypes"
   ]
  },
  {
   "cell_type": "code",
   "execution_count": null,
   "metadata": {},
   "outputs": [],
   "source": [
    "# dfo [~dfo[['price_in_euro', 'year']].applymap(np.isreal).all(1)]\n",
    "def check_non_numeric(s:pd.Series):\n",
    "    \n",
    "    idx = pd.to_numeric(s, errors='coerce').isna()\n",
    "    return idx  # return index of non numeric\n"
   ]
  },
  {
   "cell_type": "code",
   "execution_count": null,
   "metadata": {},
   "outputs": [],
   "source": [
    "# x = check_non_numeric(dfo.price_in_euro)\n",
    "# dfo.price_in_euro[check_non_numeric(dfo.price_in_euro)]\n",
    "\n",
    "# y = check_non_numeric(dfo.year)\n",
    "# dfo.year[y]\n",
    "\n",
    "x = dfo.mileage_in_km[check_non_numeric(dfo.mileage_in_km)]\n"
   ]
  },
  {
   "cell_type": "code",
   "execution_count": null,
   "metadata": {},
   "outputs": [],
   "source": [
    "x.value_counts()"
   ]
  },
  {
   "attachments": {},
   "cell_type": "markdown",
   "metadata": {},
   "source": [
    "### Working "
   ]
  },
  {
   "cell_type": "code",
   "execution_count": null,
   "metadata": {},
   "outputs": [],
   "source": [
    "# dfo.head()\n",
    "# dfo.brand.value_counts()\n",
    "# dfo[['year', 'registration_date']].head()\n",
    "# df = dfo.assign(year_e = pd.to_numeric(dfo.year, errors='coerce'))\n",
    "# df = dfo.assign(years_in_service = 2023-pd.to_numeric(dfo.year, errors='coerce'))\n",
    "# dfo.year.astype(int, errors='ignore') - 2023\n",
    "df[['brand', 'year_e', 'price_in_euro']].groupby(['brand', 'year_e']).mean()\n",
    "# 2023 - dfo.year.astype(int, errors='ignore')\n",
    "# df.head()\n",
    "# df.years_on_service\n",
    "# df.years_in_service = 2023 - df.years_in_service\n",
    "# df = df.loc[df.years_in_service >= 0]\n",
    "# df[['year', 'year_e']].value_counts()\n",
    "# df[['year']].value_counts()\n"
   ]
  },
  {
   "cell_type": "code",
   "execution_count": null,
   "metadata": {},
   "outputs": [],
   "source": [
    "# pd.to_numeric(dfo.year, errors='coerce').value_counts()\n",
    "pd.to_numeric(df.price_in_euro, errors='raise').value_counts().sort_index()\n"
   ]
  },
  {
   "cell_type": "code",
   "execution_count": null,
   "metadata": {},
   "outputs": [],
   "source": []
  }
 ],
 "metadata": {
  "kernelspec": {
   "display_name": "Python 3",
   "language": "python",
   "name": "python3"
  },
  "language_info": {
   "codemirror_mode": {
    "name": "ipython",
    "version": 3
   },
   "file_extension": ".py",
   "mimetype": "text/x-python",
   "name": "python",
   "nbconvert_exporter": "python",
   "pygments_lexer": "ipython3",
   "version": "3.11.4"
  },
  "orig_nbformat": 4
 },
 "nbformat": 4,
 "nbformat_minor": 2
}
