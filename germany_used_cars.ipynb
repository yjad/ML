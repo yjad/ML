{
 "cells": [
  {
   "cell_type": "code",
   "execution_count": null,
   "metadata": {},
   "outputs": [],
   "source": [
    "import pandas as pd\n",
    "import seaborn as sns\n",
    "import numpy as np\n",
    "import matplotlib.pyplot as plt\n",
    "plt.style.use('ggplot')\n",
    "# pd.set_option('display.max_columns', 10)\n",
    "# pd.set_option('display.max_rows', 100)\n"
   ]
  },
  {
   "cell_type": "code",
   "execution_count": null,
   "metadata": {},
   "outputs": [],
   "source": [
    "ds_path = r\".\\data\\GermanyUsedCars.zip\"\n",
    "dfo = pd.read_csv(ds_path, index_col=0, dtype_backend='pyarrow')\n",
    "# dfo = pd.read_csv(ds_path, index_col=0)\n",
    "dfo.columns"
   ]
  },
  {
   "attachments": {},
   "cell_type": "markdown",
   "metadata": {},
   "source": [
    "### Data exploration"
   ]
  },
  {
   "cell_type": "code",
   "execution_count": null,
   "metadata": {},
   "outputs": [],
   "source": [
    "# dfo.shape\n",
    "# dfo.isnull().count()\n",
    "# dfo.isna().sum()\n",
    "# dfo.isnull().sum()\n",
    "# dfo.fuel_type.value_counts()\n",
    "# dfo.color.value_counts()\n",
    "# dfo.color.isna().sum()\n",
    "# df.dtypes\n",
    "# dfo.mileage_in_km.value_counts()\n",
    "# dfo.mileage_in_km.isna().sum()\n",
    "# dfo.dtypes\n",
    "# dfo.shape[0] - pd.to_numeric(dfo.year, errors='coerce', dtype_backend = 'pyarrow').dropna(axis=0).shape[0]"
   ]
  },
  {
   "cell_type": "code",
   "execution_count": null,
   "metadata": {},
   "outputs": [],
   "source": [
    "def check_non_numeric(s:pd.Series):\n",
    "    # print (s.dtype)\n",
    "    if 'pyarrow' in str(s.dtype):\n",
    "        idx = pd.to_numeric(s, errors='coerce', dtype_backend='pyarrow').isna()\n",
    "    else:\n",
    "        idx = pd.to_numeric(s, errors='coerce').isna()\n",
    "    return idx  # return index of non numeric\n"
   ]
  },
  {
   "attachments": {},
   "cell_type": "markdown",
   "metadata": {},
   "source": [
    "### Data Cleansing"
   ]
  },
  {
   "cell_type": "code",
   "execution_count": null,
   "metadata": {},
   "outputs": [],
   "source": [
    "# drop non-numeric year values\n",
    "df = dfo.copy()\n",
    "# df = df[~check_non_numeric(df.year)].\\\n",
    "df = df[~((check_non_numeric(dfo.year)) | check_non_numeric(dfo.price_in_euro))].\\\n",
    "    assign(year = lambda x: x.year.astype(int))\\\n",
    "    .assign (price_in_euro = lambda x: x.price_in_euro.astype(float))\n",
    "    # include only year values between (1900, 2023)\n",
    "df = df.loc[df.year.between(1900, 2023)]\n",
    "\n",
    "        \n",
    "\"number_of_dropped_rows:\", dfo.shape[0]- df.shape[0]"
   ]
  },
  {
   "cell_type": "markdown",
   "metadata": {},
   "source": [
    "### Plots"
   ]
  },
  {
   "cell_type": "code",
   "execution_count": null,
   "metadata": {},
   "outputs": [],
   "source": [
    "df['year'].value_counts().sort_index().plot(ylabel=\"# of cars\", xlabel='Year', title=\"Number of Cars by Manufacture Year\")\n",
    "plt.show()\n",
    "df[['brand', 'year']].value_counts().head(20).plot(kind='barh', xlabel=\"# of cars\", ylabel='Brand-Year', title=\"Top 20 Cars' brands-year\")\n",
    "plt.show()\n",
    "df[['brand', 'model', 'year']].value_counts().head(20).plot(kind='barh', xlabel=\"# of cars\", ylabel='Brand-Model-Year', title=\"Top 20 Cars' brand/model/year\")\n",
    "plt.show()\n",
    "df[['brand', 'model', 'year', 'price_in_euro']].groupby(['brand', 'model', 'year']).mean()\\\n",
    "    .sort_values('price_in_euro', ascending=False).head(20)\\\n",
    "    .assign(price_in_euro = lambda x: x/1000000) \\\n",
    "    .plot(kind='barh', xlabel=\"Avg Price in Milion Euro\", ylabel='Brand-Model-Year', title=\"Top 20 cars' prices\") \n",
    "plt.show()\n",
    "\n",
    "df[['brand','price_in_euro']].groupby(['brand']).mean()\\\n",
    "    .sort_values('price_in_euro', ascending=False).head(20)\\\n",
    "    .assign(price_in_euro = lambda x: x/1000) \\\n",
    "    .plot(kind='barh', xlabel=\"Avg Price in K Euro\", ylabel='Brand', title=\"Top 20 cars' prices\") \n",
    "plt.show()"
   ]
  },
  {
   "cell_type": "code",
   "execution_count": null,
   "metadata": {},
   "outputs": [],
   "source": [
    "# Highest/Lowest average prices cars by brand-model-year\n",
    "df[['brand', 'model', 'year', 'price_in_euro']].groupby(['brand', 'model', 'year']).mean().sort_values('price_in_euro', ascending=False)#.head(15)"
   ]
  },
  {
   "cell_type": "code",
   "execution_count": null,
   "metadata": {},
   "outputs": [],
   "source": [
    "categ = pd.DataFrame()\n",
    "categ = categ.assign (brand = df.brand.astype('category').cat.codes)\\\n",
    "        .assign(model = df.model.astype('category').cat.codes)\\\n",
    "        .assign(year = df.year.astype('category').cat.codes)\\\n",
    "        .assign(price_in_euro = df.price_in_euro)\\\n",
    "        .assign(brand_year = (df.brand+\"-\"+df.year.astype(str)))#.astype('category').cat.codes)\n",
    "\n",
    "\n",
    "# df[['brand', 'year', 'price_in_euro']].corr(numeric_only=True)\n",
    "    # .sort_values('price_in_euro', ascending=False).describe()\n",
    "# x[['brand', 'price_in_euro']].corr()\n",
    "categ"
   ]
  },
  {
   "cell_type": "code",
   "execution_count": null,
   "metadata": {},
   "outputs": [],
   "source": [
    "categ[['brand_year', 'price_in_euro']].groupby('brand_year').agg(['mean', 'count'])#.head(20)#.plot(x='price_in_euro', y='price_in_euro')"
   ]
  },
  {
   "attachments": {},
   "cell_type": "markdown",
   "metadata": {},
   "source": [
    "### Working "
   ]
  },
  {
   "cell_type": "code",
   "execution_count": null,
   "metadata": {},
   "outputs": [],
   "source": [
    "# dfo.head()\n",
    "# dfo.brand.value_counts()\n",
    "# dfo[['year', 'registration_date']].head()\n",
    "# df = dfo.assign(year_e = pd.to_numeric(dfo.year, errors='coerce'))\n",
    "# df = dfo.assign(years_in_service = 2023-pd.to_numeric(dfo.year, errors='coerce'))\n",
    "# dfo.year.astype(int, errors='ignore') - 2023\n",
    "df[['brand', 'year', 'price_in_euro']].groupby(['brand', 'year']).mean()\n",
    "# 2023 - dfo.year.astype(int, errors='ignore')\n",
    "# df.head()\n",
    "# df.years_on_service\n",
    "# df.years_in_service = 2023 - df.years_in_service\n",
    "# df = df.loc[df.years_in_service >= 0]\n",
    "# df[['year', 'year_e']].value_counts()\n",
    "# df[['year']].value_counts()\n"
   ]
  },
  {
   "cell_type": "markdown",
   "metadata": {},
   "source": [
    "## Regression"
   ]
  },
  {
   "cell_type": "code",
   "execution_count": null,
   "metadata": {},
   "outputs": [],
   "source": [
    "\n"
   ]
  }
 ],
 "metadata": {
  "kernelspec": {
   "display_name": "Python 3",
   "language": "python",
   "name": "python3"
  },
  "language_info": {
   "codemirror_mode": {
    "name": "ipython",
    "version": 3
   },
   "file_extension": ".py",
   "mimetype": "text/x-python",
   "name": "python",
   "nbconvert_exporter": "python",
   "pygments_lexer": "ipython3",
   "version": "3.13.1"
  },
  "orig_nbformat": 4
 },
 "nbformat": 4,
 "nbformat_minor": 2
}
