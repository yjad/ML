{
 "cells": [
  {
   "cell_type": "code",
   "execution_count": null,
   "metadata": {},
   "outputs": [],
   "source": [
    "import pandas as pd\n",
    "import seaborn as sns\n",
    "import numpy as np\n",
    "import matplotlib.pyplot as plt\n",
    "plt.style.use('ggplot')\n",
    "# pd.set_option('display.max_columns', 10)\n",
    "# pd.set_option('display.max_rows', 100)\n"
   ]
  },
  {
   "cell_type": "code",
   "execution_count": null,
   "metadata": {},
   "outputs": [],
   "source": [
    "ds_path = r\".\\data\\GermanyUsedCars.zip\"\n",
    "dfo = pd.read_csv(ds_path, index_col=0, dtype_backend='pyarrow')\n",
    "dfo.columns"
   ]
  },
  {
   "attachments": {},
   "cell_type": "markdown",
   "metadata": {},
   "source": [
    "### Data exploration"
   ]
  },
  {
   "cell_type": "code",
   "execution_count": null,
   "metadata": {},
   "outputs": [],
   "source": [
    "# dfo.shape\n",
    "# dfo.isnull().count()\n",
    "# dfo.isna().sum()\n",
    "# dfo.isnull().sum()\n",
    "# dfo.fuel_type.value_counts()\n",
    "# dfo.color.value_counts()\n",
    "# dfo.color.isna().sum()\n",
    "# df.dtypes\n",
    "# dfo.mileage_in_km.value_counts()\n",
    "# dfo.mileage_in_km.isna().sum()\n",
    "# dfo.dtypes\n",
    "\n",
    "\n"
   ]
  },
  {
   "attachments": {},
   "cell_type": "markdown",
   "metadata": {},
   "source": [
    "### Data Cleansing"
   ]
  },
  {
   "cell_type": "code",
   "execution_count": null,
   "metadata": {},
   "outputs": [],
   "source": [
    "# drop non-numeric year values\n",
    "df = dfo.copy()\n",
    "df.year = pd.to_numeric(df.year, errors='coerce').dropna(axis=0)\n",
    "df = df.loc[~((df.year.isna()) | (df.year > 2023))]\n",
    "        # assign(years_in_service = lambda x: 2023-x.year)\n",
    "# # drop non-numeric price_in_euro values\n",
    "# df = df.assign(price_in_euro = pd.to_numeric(df.price_in_euro, errors='coerce'))\n",
    "# df.year = df.year.fillna(0)\n",
    "        \n",
    "\"number_of_droped_col:\", dfo.shape[0]- df.shape[0]"
   ]
  },
  {
   "cell_type": "code",
   "execution_count": null,
   "metadata": {},
   "outputs": [],
   "source": [
    "# df.year.value_counts() - \n",
    "df.year.value_counts()"
   ]
  },
  {
   "cell_type": "code",
   "execution_count": null,
   "metadata": {},
   "outputs": [],
   "source": [
    "def check_non_numeric(s:pd.Series):\n",
    "    \n",
    "    idx = pd.to_numeric(s, errors='coerce').isna()\n",
    "    return idx  # return index of non numeric\n"
   ]
  },
  {
   "cell_type": "code",
   "execution_count": null,
   "metadata": {},
   "outputs": [],
   "source": [
    "# df['year_inroduced'].value_counts().head().plot(kind='bar'| 'barh' | 'hist' , title=, xlabel=)\n",
    "df['year'].value_counts().plot(kind='barh')\n",
    "plt.show()"
   ]
  },
  {
   "attachments": {},
   "cell_type": "markdown",
   "metadata": {},
   "source": [
    "### Working "
   ]
  },
  {
   "cell_type": "code",
   "execution_count": null,
   "metadata": {},
   "outputs": [],
   "source": [
    "# dfo.head()\n",
    "# dfo.brand.value_counts()\n",
    "# dfo[['year', 'registration_date']].head()\n",
    "# df = dfo.assign(year_e = pd.to_numeric(dfo.year, errors='coerce'))\n",
    "# df = dfo.assign(years_in_service = 2023-pd.to_numeric(dfo.year, errors='coerce'))\n",
    "# dfo.year.astype(int, errors='ignore') - 2023\n",
    "df[['brand', 'year', 'price_in_euro']].groupby(['brand', 'year']).mean()\n",
    "# 2023 - dfo.year.astype(int, errors='ignore')\n",
    "# df.head()\n",
    "# df.years_on_service\n",
    "# df.years_in_service = 2023 - df.years_in_service\n",
    "# df = df.loc[df.years_in_service >= 0]\n",
    "# df[['year', 'year_e']].value_counts()\n",
    "# df[['year']].value_counts()\n"
   ]
  },
  {
   "cell_type": "code",
   "execution_count": null,
   "metadata": {},
   "outputs": [],
   "source": [
    "# pd.to_numeric(dfo.year, errors='coerce').value_counts()\n",
    "pd.to_numeric(df.price_in_euro, errors='raise').value_counts().sort_index()\n"
   ]
  },
  {
   "cell_type": "code",
   "execution_count": null,
   "metadata": {},
   "outputs": [],
   "source": []
  }
 ],
 "metadata": {
  "kernelspec": {
   "display_name": "Python 3",
   "language": "python",
   "name": "python3"
  },
  "language_info": {
   "codemirror_mode": {
    "name": "ipython",
    "version": 3
   },
   "file_extension": ".py",
   "mimetype": "text/x-python",
   "name": "python",
   "nbconvert_exporter": "python",
   "pygments_lexer": "ipython3",
   "version": "3.11.4"
  },
  "orig_nbformat": 4
 },
 "nbformat": 4,
 "nbformat_minor": 2
}
