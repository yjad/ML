{
 "cells": [
  {
   "cell_type": "markdown",
   "metadata": {},
   "source": [
    "# using Decision Tree "
   ]
  },
  {
   "cell_type": "code",
   "execution_count": 18,
   "metadata": {},
   "outputs": [],
   "source": [
    "import pandas as pd\n",
    "from sklearn.metrics import mean_absolute_error, r2_score, mean_squared_error\n",
    "from sklearn.model_selection import train_test_split\n",
    "from sklearn.ensemble import RandomForestRegressor\n",
    "from sklearn.tree import DecisionTreeRegressor\n",
    "from sklearn import linear_model\n",
    "import seaborn as sns"
   ]
  },
  {
   "cell_type": "code",
   "execution_count": 19,
   "metadata": {},
   "outputs": [],
   "source": [
    "def print_model_performance(model, y, prediction, id):\n",
    "    # print ('coeffecient:', model.coef_)\n",
    "    # print ('intercept: ', model.intercept_)\n",
    "    print (f'Mean squared Error (MSE): {mean_squared_error(y, prediction):.2f}')\n",
    "    print (f'Mean absolute Error (MAE): {mean_absolute_error(y, prediction):.2f}')\n",
    "    print (f'Coeffecint of determination (R2): {r2_score(y, prediction):.2f}')\n",
    "    sns.scatterplot(x=y, y=prediction)\n"
   ]
  },
  {
   "cell_type": "markdown",
   "metadata": {},
   "source": []
  },
  {
   "cell_type": "markdown",
   "metadata": {},
   "source": [
    "# Use Decision Tree Regression - One leaf"
   ]
  },
  {
   "cell_type": "code",
   "execution_count": 20,
   "metadata": {},
   "outputs": [],
   "source": [
    "def reg_decision_tree_1(train_X, val_X, train_y, val_y):\n",
    "    # Specify Model\n",
    "    iowa_model = DecisionTreeRegressor(random_state=1)\n",
    "    # Fit Model\n",
    "    iowa_model.fit(train_X, train_y)\n",
    "\n",
    "    # Make validation predictions and calculate mean absolute error\n",
    "    val_predictions = iowa_model.predict(val_X)\n",
    "    val_mae = mean_absolute_error(val_predictions, val_y)\n",
    "    # print(\"Validation MAE: {:,.0f}\".format(val_mae))\n",
    "    print_model_performance(iowa_model, val_y, val_predictions,1)\n"
   ]
  },
  {
   "cell_type": "markdown",
   "metadata": {},
   "source": [
    "# Use Decision Tree with optimizating max_leaf_nodes"
   ]
  },
  {
   "cell_type": "code",
   "execution_count": 21,
   "metadata": {},
   "outputs": [],
   "source": [
    "# model = DecisionTreeRegressor(max_leaf_nodes=max_leaf_nodes, random_state=0)\n",
    "def get_mae(max_leaf_nodes, train_X, val_X, train_y, val_y):\n",
    "    model = DecisionTreeRegressor(max_leaf_nodes=max_leaf_nodes, random_state=0)\n",
    "    model.fit(train_X, train_y)\n",
    "    preds_val = model.predict(val_X)\n",
    "    mae = mean_absolute_error(val_y, preds_val)\n",
    "    return(mae)"
   ]
  },
  {
   "cell_type": "code",
   "execution_count": 22,
   "metadata": {},
   "outputs": [],
   "source": [
    "def reg_decision_tree_max_leaf(train_X, val_X, train_y, val_y):\n",
    "    candidate_max_leaf_nodes = [5, 25, 50, 100, 250, 500]\n",
    "    # Write loop to find the ideal tree size from candidate_max_leaf_nodes\n",
    "    mae=[]\n",
    "    for i, max_leaf in enumerate(candidate_max_leaf_nodes):\n",
    "        #print (i, max_leaf)\n",
    "        x = get_mae(max_leaf, train_X, val_X, train_y, val_y)\n",
    "        mae.append(x)\n",
    "        print(f\"Max leaf nodes: {max_leaf}  \\t\\t Mean Absolute Error:  {x}\")\n",
    "        \n",
    "    # Store the best value of max_leaf_nodes (it will be either 5, 25, 50, 100, 250 or 500)\n",
    "    m = mae.index(min(mae))\n",
    "    best_tree_size = candidate_max_leaf_nodes[m]\n",
    "\n",
    "    final_model = DecisionTreeRegressor(max_leaf_nodes=100, random_state=0)\n",
    "    # fit the final model \n",
    "    final_model.fit(X, y)\n",
    "    pred = final_model.predict(val_X)\n",
    "    print_model_performance(final_model, val_y, pred, 2)"
   ]
  },
  {
   "cell_type": "markdown",
   "metadata": {},
   "source": [
    "# Use Random Forest regression model"
   ]
  },
  {
   "cell_type": "code",
   "execution_count": 23,
   "metadata": {},
   "outputs": [],
   "source": [
    "\n",
    "# from sklearn.metrics import mean_absolute_error\n",
    "def use_forest_regression(train_X, val_X, train_y, val_y):\n",
    "    forest_model = RandomForestRegressor(random_state=1)\n",
    "    forest_model.fit(train_X, train_y)\n",
    "    melb_preds = forest_model.predict(val_X)\n",
    "    print_model_performance(forest_model, val_y, melb_preds, 3)"
   ]
  },
  {
   "cell_type": "markdown",
   "metadata": {},
   "source": [
    "# Use Linear model regression"
   ]
  },
  {
   "cell_type": "code",
   "execution_count": 24,
   "metadata": {},
   "outputs": [],
   "source": [
    "def use_linear_model(train_X, eval_X, train_y, eval_y):\n",
    "    model = linear_model.LinearRegression()\n",
    "    model.fit(train_X, train_y)\n",
    "    pred = model.predict(eval_X)\n",
    "    print_model_performance(model, eval_y, pred, 4)\n",
    "    # print ('Mead squared Error (MSE):', mean_squared_error(val_y, pred))"
   ]
  },
  {
   "cell_type": "markdown",
   "metadata": {},
   "source": [
    "# Regression analysus using 4 methods"
   ]
  },
  {
   "cell_type": "code",
   "execution_count": null,
   "metadata": {},
   "outputs": [],
   "source": [
    "iowa_file_path = r\"C:\\Yahia\\Python\\ML\\data\\train.csv\"\n",
    "home_data = pd.read_csv(iowa_file_path)\n",
    "\n",
    "y = home_data.SalePrice\n",
    "# Create X\n",
    "features = ['LotArea', 'YearBuilt', '1stFlrSF', '2ndFlrSF', 'FullBath', 'BedroomAbvGr', 'TotRmsAbvGrd']\n",
    "X = home_data[features]\n",
    "\n",
    "# Split into validation and training data\n",
    "# train_X, val_X, train_y, val_y = train_test_split(X, y, random_state=1)\n",
    "train_X, val_X, train_y, val_y = train_test_split(X, y, test_size =0.2)\n",
    "\n",
    "print ('************ Decision Tree one level ***************')\n",
    "reg_decision_tree_1(train_X, val_X, train_y, val_y)\n",
    "\n",
    "print ('\\n************ Decision Tree multi level optimized ***************')\n",
    "reg_decision_tree_max_leaf(train_X, val_X, train_y, val_y)\n",
    "\n",
    "print ('\\n************ User Forest model regression ***************')\n",
    "use_forest_regression(train_X, val_X, train_y, val_y)\n",
    "\n",
    "print ('\\n************ Linear Model ***************')\n",
    "use_linear_model(train_X, val_X, train_y, val_y)"
   ]
  },
  {
   "cell_type": "markdown",
   "metadata": {},
   "source": [
    "### Boston House data"
   ]
  },
  {
   "cell_type": "code",
   "execution_count": 29,
   "metadata": {},
   "outputs": [
    {
     "name": "stdout",
     "output_type": "stream",
     "text": [
      "************ Decision Tree one level ***************\n",
      "Mean squared Error (MSE): 20.61\n",
      "Mean absolute Error (MAE): 3.07\n",
      "Coeffecint of determination (R2): 0.63\n",
      "\n",
      "************ Decision Tree multi level optimized ***************\n",
      "Max leaf nodes: 5  \t\t Mean Absolute Error:  3.40108938130674\n",
      "Max leaf nodes: 25  \t\t Mean Absolute Error:  2.627997860311646\n",
      "Max leaf nodes: 50  \t\t Mean Absolute Error:  2.7319911434157937\n",
      "Max leaf nodes: 100  \t\t Mean Absolute Error:  2.9027547180488353\n",
      "Max leaf nodes: 250  \t\t Mean Absolute Error:  2.9633846872082166\n",
      "Max leaf nodes: 500  \t\t Mean Absolute Error:  2.965686274509805\n",
      "Mean squared Error (MSE): 1.09\n",
      "Mean absolute Error (MAE): 0.84\n",
      "Coeffecint of determination (R2): 0.98\n",
      "\n",
      "************ User Forest model regression ***************\n",
      "Mean squared Error (MSE): 8.41\n",
      "Mean absolute Error (MAE): 2.03\n",
      "Coeffecint of determination (R2): 0.85\n",
      "\n",
      "************ Linear Model ***************\n",
      "Mean squared Error (MSE): 21.34\n",
      "Mean absolute Error (MAE): 3.36\n",
      "Coeffecint of determination (R2): 0.62\n"
     ]
    },
    {
     "data": {
      "image/png": "[encoded data removed]",
      "text/plain": [
       "<Figure size 432x288 with 1 Axes>"
      ]
     },
     "metadata": {
      "needs_background": "light"
     },
     "output_type": "display_data"
    }
   ],
   "source": [
    "file_path = r\"C:\\Yahia\\Python\\ML\\data\\BostonHousing.csv\"\n",
    "boston_data = pd.read_csv(file_path)\n",
    "\n",
    "y= boston_data.medv\n",
    "X = boston_data.drop('medv', axis='columns')\n",
    "\n",
    "# # Split into validation and training data\n",
    "# train_X, val_X, train_y, val_y = train_test_split(X, y, random_state=1)\n",
    "train_X, val_X, train_y, val_y = train_test_split(X, y, test_size =0.2)\n",
    "\n",
    "print ('************ Decision Tree one level ***************')\n",
    "reg_decision_tree_1(train_X, val_X, train_y, val_y)\n",
    "\n",
    "print ('\\n************ Decision Tree multi level optimized ***************')\n",
    "reg_decision_tree_max_leaf(train_X, val_X, train_y, val_y)\n",
    "\n",
    "print ('\\n************ User Forest model regression ***************')\n",
    "use_forest_regression(train_X, val_X, train_y, val_y)\n",
    "\n",
    "print ('\\n************ Linear Model ***************')\n",
    "use_linear_model(train_X, val_X, train_y, val_y)\n"
   ]
  }
 ],
 "metadata": {
  "kernelspec": {
   "display_name": "Python 3.10.2 64-bit",
   "language": "python",
   "name": "python3"
  },
  "language_info": {
   "codemirror_mode": {
    "name": "ipython",
    "version": 3
   },
   "file_extension": ".py",
   "mimetype": "text/x-python",
   "name": "python",
   "nbconvert_exporter": "python",
   "pygments_lexer": "ipython3",
   "version": "3.10.2"
  },
  "orig_nbformat": 4,
  "vscode": {
   "interpreter": {
    "hash": "26de051ba29f2982a8de78e945f0abaf191376122a1563185a90213a26c5da77"
   }
  }
 },
 "nbformat": 4,
 "nbformat_minor": 2
}
