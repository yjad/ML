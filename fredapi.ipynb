{
 "cells": [
  {
   "cell_type": "markdown",
   "metadata": {},
   "source": [
    "https://www.youtube.com/watch?v=R67XuYc9NQ4&t=485s\n",
    "https://fred.stlouisfed.org/categories "
   ]
  },
  {
   "cell_type": "code",
   "execution_count": 1,
   "metadata": {},
   "outputs": [],
   "source": [
    "import yaml \n",
    "import pandas as pd\n",
    "# import matplotlib.pyplot as plt\n",
    "# import plotly.express as px\n",
    "\n",
    "from fredapi import Fred\n",
    "\n",
    "# plt.style.user('fivethirtyeight')\n",
    "# pd.set_option('max_columns', 500)\n",
    "# color_pal = plt.rcParams[\"axes.prop_cycle\"].by_key()[\"color\"]\n",
    "\n"
   ]
  },
  {
   "cell_type": "code",
   "execution_count": 2,
   "metadata": {},
   "outputs": [],
   "source": [
    "def load_config():\n",
    "    with open('./.secret/config.yaml') as file:\n",
    "        return yaml.load(file, Loader=yaml.SafeLoader)\n",
    "\n",
    "conf= load_config()\n",
    "fred_key= conf['fredapi_key']\n",
    "\n",
    "fred = Fred(api_key=fred_key)"
   ]
  },
  {
   "cell_type": "code",
   "execution_count": 22,
   "metadata": {},
   "outputs": [
    {
     "data": {
      "text/plain": [
       "2013-08-05    1707.14\n",
       "2013-08-06    1697.37\n",
       "2013-08-07    1690.91\n",
       "2013-08-08    1697.48\n",
       "2013-08-09    1691.42\n",
       "               ...   \n",
       "2023-07-27    4537.41\n",
       "2023-07-28    4582.23\n",
       "2023-07-31    4588.96\n",
       "2023-08-01    4576.73\n",
       "2023-08-02    4513.39\n",
       "Length: 2608, dtype: float64"
      ]
     },
     "execution_count": 22,
     "metadata": {},
     "output_type": "execute_result"
    }
   ],
   "source": [
    "fred.search(\"SP500\")\n",
    "# gdp = fred.search_by_ID(\"GDP\")\n",
    "fred.get_series(\"SP500\")\n",
    "\n"
   ]
  },
  {
   "cell_type": "code",
   "execution_count": 20,
   "metadata": {},
   "outputs": [
    {
     "ename": "AttributeError",
     "evalue": "'Fred' object has no attribute 'search_category'",
     "output_type": "error",
     "traceback": [
      "\u001b[1;31m---------------------------------------------------------------------------\u001b[0m",
      "\u001b[1;31mAttributeError\u001b[0m                            Traceback (most recent call last)",
      "Cell \u001b[1;32mIn[20], line 1\u001b[0m\n\u001b[1;32m----> 1\u001b[0m fred\u001b[39m.\u001b[39;49msearch_category()\n",
      "\u001b[1;31mAttributeError\u001b[0m: 'Fred' object has no attribute 'search_category'"
     ]
    }
   ],
   "source": [
    "fred.search_category()"
   ]
  },
  {
   "cell_type": "code",
   "execution_count": 16,
   "metadata": {},
   "outputs": [
    {
     "data": {
      "text/html": [
       "<div>\n",
       "<style scoped>\n",
       "    .dataframe tbody tr th:only-of-type {\n",
       "        vertical-align: middle;\n",
       "    }\n",
       "\n",
       "    .dataframe tbody tr th {\n",
       "        vertical-align: top;\n",
       "    }\n",
       "\n",
       "    .dataframe thead th {\n",
       "        text-align: right;\n",
       "    }\n",
       "</style>\n",
       "<table border=\"1\" class=\"dataframe\">\n",
       "  <thead>\n",
       "    <tr style=\"text-align: right;\">\n",
       "      <th></th>\n",
       "      <th>id</th>\n",
       "      <th>realtime_start</th>\n",
       "      <th>realtime_end</th>\n",
       "      <th>title</th>\n",
       "      <th>observation_start</th>\n",
       "      <th>observation_end</th>\n",
       "      <th>frequency</th>\n",
       "      <th>frequency_short</th>\n",
       "      <th>units</th>\n",
       "      <th>units_short</th>\n",
       "      <th>seasonal_adjustment</th>\n",
       "      <th>seasonal_adjustment_short</th>\n",
       "      <th>last_updated</th>\n",
       "      <th>popularity</th>\n",
       "      <th>notes</th>\n",
       "    </tr>\n",
       "    <tr>\n",
       "      <th>series id</th>\n",
       "      <th></th>\n",
       "      <th></th>\n",
       "      <th></th>\n",
       "      <th></th>\n",
       "      <th></th>\n",
       "      <th></th>\n",
       "      <th></th>\n",
       "      <th></th>\n",
       "      <th></th>\n",
       "      <th></th>\n",
       "      <th></th>\n",
       "      <th></th>\n",
       "      <th></th>\n",
       "      <th></th>\n",
       "      <th></th>\n",
       "    </tr>\n",
       "  </thead>\n",
       "  <tbody>\n",
       "    <tr>\n",
       "      <th>GFDEGDQ188S</th>\n",
       "      <td>GFDEGDQ188S</td>\n",
       "      <td>2023-08-03</td>\n",
       "      <td>2023-08-03</td>\n",
       "      <td>Federal Debt: Total Public Debt as Percent of ...</td>\n",
       "      <td>1966-01-01</td>\n",
       "      <td>2023-01-01</td>\n",
       "      <td>Quarterly</td>\n",
       "      <td>Q</td>\n",
       "      <td>Percent of GDP</td>\n",
       "      <td>% of GDP</td>\n",
       "      <td>Seasonally Adjusted</td>\n",
       "      <td>SA</td>\n",
       "      <td>2023-06-29 08:06:02-05:00</td>\n",
       "      <td>84</td>\n",
       "      <td>Federal Debt: Total Public Debt as Percent of ...</td>\n",
       "    </tr>\n",
       "    <tr>\n",
       "      <th>FYFSGDA188S</th>\n",
       "      <td>FYFSGDA188S</td>\n",
       "      <td>2023-08-03</td>\n",
       "      <td>2023-08-03</td>\n",
       "      <td>Federal Surplus or Deficit [-] as Percent of G...</td>\n",
       "      <td>1929-01-01</td>\n",
       "      <td>2022-01-01</td>\n",
       "      <td>Annual</td>\n",
       "      <td>A</td>\n",
       "      <td>Percent of GDP</td>\n",
       "      <td>% of GDP</td>\n",
       "      <td>Not Seasonally Adjusted</td>\n",
       "      <td>NSA</td>\n",
       "      <td>2023-03-30 08:05:04-05:00</td>\n",
       "      <td>73</td>\n",
       "      <td>Federal Surplus or Deficit [-] as Percent of G...</td>\n",
       "    </tr>\n",
       "    <tr>\n",
       "      <th>FYFSDFYGDP</th>\n",
       "      <td>FYFSDFYGDP</td>\n",
       "      <td>2023-08-03</td>\n",
       "      <td>2023-08-03</td>\n",
       "      <td>Federal Surplus or Deficit [-] as Percent of G...</td>\n",
       "      <td>1930-06-30</td>\n",
       "      <td>2022-09-30</td>\n",
       "      <td>Annual, Fiscal Year</td>\n",
       "      <td>A</td>\n",
       "      <td>Percent of GDP</td>\n",
       "      <td>% of GDP</td>\n",
       "      <td>Not Seasonally Adjusted</td>\n",
       "      <td>NSA</td>\n",
       "      <td>2023-03-15 13:55:01-05:00</td>\n",
       "      <td>43</td>\n",
       "      <td>None</td>\n",
       "    </tr>\n",
       "    <tr>\n",
       "      <th>FYOIGDA188S</th>\n",
       "      <td>FYOIGDA188S</td>\n",
       "      <td>2023-08-03</td>\n",
       "      <td>2023-08-03</td>\n",
       "      <td>Federal Outlays: Interest as Percent of Gross ...</td>\n",
       "      <td>1940-01-01</td>\n",
       "      <td>2022-01-01</td>\n",
       "      <td>Annual</td>\n",
       "      <td>A</td>\n",
       "      <td>Percent of GDP</td>\n",
       "      <td>% of GDP</td>\n",
       "      <td>Not Seasonally Adjusted</td>\n",
       "      <td>NSA</td>\n",
       "      <td>2023-03-30 08:05:05-05:00</td>\n",
       "      <td>66</td>\n",
       "      <td>Federal Outlays: Interest as Percent of Gross ...</td>\n",
       "    </tr>\n",
       "    <tr>\n",
       "      <th>GDP</th>\n",
       "      <td>GDP</td>\n",
       "      <td>2023-08-03</td>\n",
       "      <td>2023-08-03</td>\n",
       "      <td>Gross Domestic Product</td>\n",
       "      <td>1947-01-01</td>\n",
       "      <td>2023-04-01</td>\n",
       "      <td>Quarterly</td>\n",
       "      <td>Q</td>\n",
       "      <td>Billions of Dollars</td>\n",
       "      <td>Bil. of $</td>\n",
       "      <td>Seasonally Adjusted Annual Rate</td>\n",
       "      <td>SAAR</td>\n",
       "      <td>2023-07-27 07:55:01-05:00</td>\n",
       "      <td>92</td>\n",
       "      <td>BEA Account Code: A191RC  Gross domestic produ...</td>\n",
       "    </tr>\n",
       "  </tbody>\n",
       "</table>\n",
       "</div>"
      ],
      "text/plain": [
       "                      id realtime_start realtime_end  \\\n",
       "series id                                              \n",
       "GFDEGDQ188S  GFDEGDQ188S     2023-08-03   2023-08-03   \n",
       "FYFSGDA188S  FYFSGDA188S     2023-08-03   2023-08-03   \n",
       "FYFSDFYGDP    FYFSDFYGDP     2023-08-03   2023-08-03   \n",
       "FYOIGDA188S  FYOIGDA188S     2023-08-03   2023-08-03   \n",
       "GDP                  GDP     2023-08-03   2023-08-03   \n",
       "\n",
       "                                                         title  \\\n",
       "series id                                                        \n",
       "GFDEGDQ188S  Federal Debt: Total Public Debt as Percent of ...   \n",
       "FYFSGDA188S  Federal Surplus or Deficit [-] as Percent of G...   \n",
       "FYFSDFYGDP   Federal Surplus or Deficit [-] as Percent of G...   \n",
       "FYOIGDA188S  Federal Outlays: Interest as Percent of Gross ...   \n",
       "GDP                                     Gross Domestic Product   \n",
       "\n",
       "            observation_start observation_end            frequency  \\\n",
       "series id                                                            \n",
       "GFDEGDQ188S        1966-01-01      2023-01-01            Quarterly   \n",
       "FYFSGDA188S        1929-01-01      2022-01-01               Annual   \n",
       "FYFSDFYGDP         1930-06-30      2022-09-30  Annual, Fiscal Year   \n",
       "FYOIGDA188S        1940-01-01      2022-01-01               Annual   \n",
       "GDP                1947-01-01      2023-04-01            Quarterly   \n",
       "\n",
       "            frequency_short                units units_short  \\\n",
       "series id                                                      \n",
       "GFDEGDQ188S               Q       Percent of GDP    % of GDP   \n",
       "FYFSGDA188S               A       Percent of GDP    % of GDP   \n",
       "FYFSDFYGDP                A       Percent of GDP    % of GDP   \n",
       "FYOIGDA188S               A       Percent of GDP    % of GDP   \n",
       "GDP                       Q  Billions of Dollars   Bil. of $   \n",
       "\n",
       "                         seasonal_adjustment seasonal_adjustment_short  \\\n",
       "series id                                                                \n",
       "GFDEGDQ188S              Seasonally Adjusted                        SA   \n",
       "FYFSGDA188S          Not Seasonally Adjusted                       NSA   \n",
       "FYFSDFYGDP           Not Seasonally Adjusted                       NSA   \n",
       "FYOIGDA188S          Not Seasonally Adjusted                       NSA   \n",
       "GDP          Seasonally Adjusted Annual Rate                      SAAR   \n",
       "\n",
       "                          last_updated popularity  \\\n",
       "series id                                           \n",
       "GFDEGDQ188S  2023-06-29 08:06:02-05:00         84   \n",
       "FYFSGDA188S  2023-03-30 08:05:04-05:00         73   \n",
       "FYFSDFYGDP   2023-03-15 13:55:01-05:00         43   \n",
       "FYOIGDA188S  2023-03-30 08:05:05-05:00         66   \n",
       "GDP          2023-07-27 07:55:01-05:00         92   \n",
       "\n",
       "                                                         notes  \n",
       "series id                                                       \n",
       "GFDEGDQ188S  Federal Debt: Total Public Debt as Percent of ...  \n",
       "FYFSGDA188S  Federal Surplus or Deficit [-] as Percent of G...  \n",
       "FYFSDFYGDP                                                None  \n",
       "FYOIGDA188S  Federal Outlays: Interest as Percent of Gross ...  \n",
       "GDP          BEA Account Code: A191RC  Gross domestic produ...  "
      ]
     },
     "execution_count": 16,
     "metadata": {},
     "output_type": "execute_result"
    }
   ],
   "source": [
    "gdp.head()#.title"
   ]
  },
  {
   "cell_type": "code",
   "execution_count": 13,
   "metadata": {},
   "outputs": [
    {
     "data": {
      "text/plain": [
       "Index(['id', 'realtime_start', 'realtime_end', 'title', 'observation_start',\n",
       "       'observation_end', 'frequency', 'frequency_short', 'units',\n",
       "       'units_short', 'seasonal_adjustment', 'seasonal_adjustment_short',\n",
       "       'last_updated', 'popularity', 'notes'],\n",
       "      dtype='object')"
      ]
     },
     "execution_count": 13,
     "metadata": {},
     "output_type": "execute_result"
    }
   ],
   "source": [
    "gdp.columns"
   ]
  },
  {
   "cell_type": "code",
   "execution_count": 44,
   "metadata": {},
   "outputs": [],
   "source": [
    "import requests\n",
    "import json\n"
   ]
  },
  {
   "cell_type": "code",
   "execution_count": 50,
   "metadata": {},
   "outputs": [],
   "source": [
    "categ_id = 1\n",
    "q = f\"https://api.stlouisfed.org/fred/category?category_id={categ_id}&api_key={fred_key}&file_type=json\"\n",
    "r = requests.get(q)\n"
   ]
  },
  {
   "cell_type": "code",
   "execution_count": 51,
   "metadata": {},
   "outputs": [
    {
     "data": {
      "text/plain": [
       "<Response [200]>"
      ]
     },
     "execution_count": 51,
     "metadata": {},
     "output_type": "execute_result"
    }
   ],
   "source": [
    "r"
   ]
  },
  {
   "cell_type": "code",
   "execution_count": 53,
   "metadata": {},
   "outputs": [
    {
     "data": {
      "text/plain": [
       "{'categories': [{'id': 1,\n",
       "   'name': 'Production & Business Activity',\n",
       "   'parent_id': 0}]}"
      ]
     },
     "execution_count": 53,
     "metadata": {},
     "output_type": "execute_result"
    }
   ],
   "source": [
    "json.loads(r.content)\n",
    "# r.content"
   ]
  },
  {
   "cell_type": "code",
   "execution_count": null,
   "metadata": {},
   "outputs": [],
   "source": []
  }
 ],
 "metadata": {
  "kernelspec": {
   "display_name": "Python 3",
   "language": "python",
   "name": "python3"
  },
  "language_info": {
   "codemirror_mode": {
    "name": "ipython",
    "version": 3
   },
   "file_extension": ".py",
   "mimetype": "text/x-python",
   "name": "python",
   "nbconvert_exporter": "python",
   "pygments_lexer": "ipython3",
   "version": "3.11.4"
  },
  "orig_nbformat": 4
 },
 "nbformat": 4,
 "nbformat_minor": 2
}
